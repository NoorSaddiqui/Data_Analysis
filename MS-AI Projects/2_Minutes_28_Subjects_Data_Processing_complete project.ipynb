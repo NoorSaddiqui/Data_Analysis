{
  "cells": [
    {
      "cell_type": "code",
      "execution_count": null,
      "metadata": {
        "id": "sxLf4ug27fN5"
      },
      "outputs": [],
      "source": [
        "import tensorflow as tf\n",
        "import numpy as np\n",
        "import keras\n",
        "import pandas as pd\n",
        "import matplotlib.pyplot as plt\n",
        "import seaborn"
      ]
    },
    {
      "cell_type": "code",
      "execution_count": null,
      "metadata": {
        "id": "gl5BO9E57wBi"
      },
      "outputs": [],
      "source": [
        "data = pd.read_csv(\"/content/drive/MyDrive/CSV Dataset/2 Minutes 28 Subjects Data for Processing.csv\")"
      ]
    },
    {
      "cell_type": "code",
      "execution_count": null,
      "metadata": {
        "colab": {
          "base_uri": "https://localhost:8080/"
        },
        "id": "rn5_uNvm8JT5",
        "outputId": "4c30d6c9-0499-43a7-e92e-37f98d1c954b"
      },
      "outputs": [
        {
          "output_type": "execute_result",
          "data": {
            "text/plain": [
              "(1025304, 21)"
            ]
          },
          "metadata": {},
          "execution_count": 7
        }
      ],
      "source": [
        "data.shape"
      ]
    },
    {
      "cell_type": "code",
      "execution_count": null,
      "metadata": {
        "colab": {
          "base_uri": "https://localhost:8080/",
          "height": 317
        },
        "id": "ImKXcplZ8T6a",
        "outputId": "03a3999e-7c34-4611-f61c-9bce923667fb"
      },
      "outputs": [
        {
          "output_type": "execute_result",
          "data": {
            "text/plain": [
              "        Delta_TP9   Delta_AF7     Delta_AF8  Delta_TP10  Theta_TP9  \\\n",
              "248949   1.153155    0.462356      2.693555    1.363615   1.115841   \n",
              "217586   0.949837    0.818257      0.971981    0.983106   0.872982   \n",
              "725018   0.956698    0.813162      0.892154    1.108386   0.847110   \n",
              "107752   1.324726     1.13332      1.254934    1.362763   0.929266   \n",
              "329601   1.569537  0.46273503  -0.013607578    0.424566   1.030953   \n",
              "\n",
              "          Theta_AF7   Theta_AF8  Theta_TP10  Alpha_TP9   Alpha_AF7  ...  \\\n",
              "248949    -0.011338    1.049886    1.309376   1.086861    0.368934  ...   \n",
              "217586     0.492109    0.500273    0.945262   0.868438    0.545484  ...   \n",
              "725018     0.430457     0.23488    0.963893   1.150992    0.568893  ...   \n",
              "107752     0.754612    0.692426    1.068046   1.323022    0.536985  ...   \n",
              "329601  -0.16320542  -0.5357308    0.357947   1.126052  0.24429467  ...   \n",
              "\n",
              "       Alpha_TP10  Beta_TP9     Beta_AF7    Beta_AF8 Beta_TP10  Gamma_TP9  \\\n",
              "248949   1.040859  0.531494      0.20188    1.025399  0.972740   0.330487   \n",
              "217586   0.889764  0.792072     0.674862    0.668322  0.707572   0.493471   \n",
              "725018   1.139656  0.596528     1.032783     0.76432  0.620597   0.413804   \n",
              "107752   1.341806  0.638927     0.022388    0.088796  0.779861   0.219911   \n",
              "329601   0.479535  1.178641  -0.23415633  -0.0685683  0.476955   1.101550   \n",
              "\n",
              "         Gamma_AF7    Gamma_AF8 Gamma_TP10  PSS Score  \n",
              "248949    0.013358     0.876143   0.790307         15  \n",
              "217586    0.685802     0.465433   0.464849         23  \n",
              "725018    0.869603      1.09482   0.469272         31  \n",
              "107752   -0.188322    -0.395746   0.426409         19  \n",
              "329601  -0.4310651  -0.53928035   0.131158         23  \n",
              "\n",
              "[5 rows x 21 columns]"
            ],
            "text/html": [
              "\n",
              "  <div id=\"df-5d585c28-7b94-4bc7-a5a6-e0566959a4df\">\n",
              "    <div class=\"colab-df-container\">\n",
              "      <div>\n",
              "<style scoped>\n",
              "    .dataframe tbody tr th:only-of-type {\n",
              "        vertical-align: middle;\n",
              "    }\n",
              "\n",
              "    .dataframe tbody tr th {\n",
              "        vertical-align: top;\n",
              "    }\n",
              "\n",
              "    .dataframe thead th {\n",
              "        text-align: right;\n",
              "    }\n",
              "</style>\n",
              "<table border=\"1\" class=\"dataframe\">\n",
              "  <thead>\n",
              "    <tr style=\"text-align: right;\">\n",
              "      <th></th>\n",
              "      <th>Delta_TP9</th>\n",
              "      <th>Delta_AF7</th>\n",
              "      <th>Delta_AF8</th>\n",
              "      <th>Delta_TP10</th>\n",
              "      <th>Theta_TP9</th>\n",
              "      <th>Theta_AF7</th>\n",
              "      <th>Theta_AF8</th>\n",
              "      <th>Theta_TP10</th>\n",
              "      <th>Alpha_TP9</th>\n",
              "      <th>Alpha_AF7</th>\n",
              "      <th>...</th>\n",
              "      <th>Alpha_TP10</th>\n",
              "      <th>Beta_TP9</th>\n",
              "      <th>Beta_AF7</th>\n",
              "      <th>Beta_AF8</th>\n",
              "      <th>Beta_TP10</th>\n",
              "      <th>Gamma_TP9</th>\n",
              "      <th>Gamma_AF7</th>\n",
              "      <th>Gamma_AF8</th>\n",
              "      <th>Gamma_TP10</th>\n",
              "      <th>PSS Score</th>\n",
              "    </tr>\n",
              "  </thead>\n",
              "  <tbody>\n",
              "    <tr>\n",
              "      <th>248949</th>\n",
              "      <td>1.153155</td>\n",
              "      <td>0.462356</td>\n",
              "      <td>2.693555</td>\n",
              "      <td>1.363615</td>\n",
              "      <td>1.115841</td>\n",
              "      <td>-0.011338</td>\n",
              "      <td>1.049886</td>\n",
              "      <td>1.309376</td>\n",
              "      <td>1.086861</td>\n",
              "      <td>0.368934</td>\n",
              "      <td>...</td>\n",
              "      <td>1.040859</td>\n",
              "      <td>0.531494</td>\n",
              "      <td>0.20188</td>\n",
              "      <td>1.025399</td>\n",
              "      <td>0.972740</td>\n",
              "      <td>0.330487</td>\n",
              "      <td>0.013358</td>\n",
              "      <td>0.876143</td>\n",
              "      <td>0.790307</td>\n",
              "      <td>15</td>\n",
              "    </tr>\n",
              "    <tr>\n",
              "      <th>217586</th>\n",
              "      <td>0.949837</td>\n",
              "      <td>0.818257</td>\n",
              "      <td>0.971981</td>\n",
              "      <td>0.983106</td>\n",
              "      <td>0.872982</td>\n",
              "      <td>0.492109</td>\n",
              "      <td>0.500273</td>\n",
              "      <td>0.945262</td>\n",
              "      <td>0.868438</td>\n",
              "      <td>0.545484</td>\n",
              "      <td>...</td>\n",
              "      <td>0.889764</td>\n",
              "      <td>0.792072</td>\n",
              "      <td>0.674862</td>\n",
              "      <td>0.668322</td>\n",
              "      <td>0.707572</td>\n",
              "      <td>0.493471</td>\n",
              "      <td>0.685802</td>\n",
              "      <td>0.465433</td>\n",
              "      <td>0.464849</td>\n",
              "      <td>23</td>\n",
              "    </tr>\n",
              "    <tr>\n",
              "      <th>725018</th>\n",
              "      <td>0.956698</td>\n",
              "      <td>0.813162</td>\n",
              "      <td>0.892154</td>\n",
              "      <td>1.108386</td>\n",
              "      <td>0.847110</td>\n",
              "      <td>0.430457</td>\n",
              "      <td>0.23488</td>\n",
              "      <td>0.963893</td>\n",
              "      <td>1.150992</td>\n",
              "      <td>0.568893</td>\n",
              "      <td>...</td>\n",
              "      <td>1.139656</td>\n",
              "      <td>0.596528</td>\n",
              "      <td>1.032783</td>\n",
              "      <td>0.76432</td>\n",
              "      <td>0.620597</td>\n",
              "      <td>0.413804</td>\n",
              "      <td>0.869603</td>\n",
              "      <td>1.09482</td>\n",
              "      <td>0.469272</td>\n",
              "      <td>31</td>\n",
              "    </tr>\n",
              "    <tr>\n",
              "      <th>107752</th>\n",
              "      <td>1.324726</td>\n",
              "      <td>1.13332</td>\n",
              "      <td>1.254934</td>\n",
              "      <td>1.362763</td>\n",
              "      <td>0.929266</td>\n",
              "      <td>0.754612</td>\n",
              "      <td>0.692426</td>\n",
              "      <td>1.068046</td>\n",
              "      <td>1.323022</td>\n",
              "      <td>0.536985</td>\n",
              "      <td>...</td>\n",
              "      <td>1.341806</td>\n",
              "      <td>0.638927</td>\n",
              "      <td>0.022388</td>\n",
              "      <td>0.088796</td>\n",
              "      <td>0.779861</td>\n",
              "      <td>0.219911</td>\n",
              "      <td>-0.188322</td>\n",
              "      <td>-0.395746</td>\n",
              "      <td>0.426409</td>\n",
              "      <td>19</td>\n",
              "    </tr>\n",
              "    <tr>\n",
              "      <th>329601</th>\n",
              "      <td>1.569537</td>\n",
              "      <td>0.46273503</td>\n",
              "      <td>-0.013607578</td>\n",
              "      <td>0.424566</td>\n",
              "      <td>1.030953</td>\n",
              "      <td>-0.16320542</td>\n",
              "      <td>-0.5357308</td>\n",
              "      <td>0.357947</td>\n",
              "      <td>1.126052</td>\n",
              "      <td>0.24429467</td>\n",
              "      <td>...</td>\n",
              "      <td>0.479535</td>\n",
              "      <td>1.178641</td>\n",
              "      <td>-0.23415633</td>\n",
              "      <td>-0.0685683</td>\n",
              "      <td>0.476955</td>\n",
              "      <td>1.101550</td>\n",
              "      <td>-0.4310651</td>\n",
              "      <td>-0.53928035</td>\n",
              "      <td>0.131158</td>\n",
              "      <td>23</td>\n",
              "    </tr>\n",
              "  </tbody>\n",
              "</table>\n",
              "<p>5 rows × 21 columns</p>\n",
              "</div>\n",
              "      <button class=\"colab-df-convert\" onclick=\"convertToInteractive('df-5d585c28-7b94-4bc7-a5a6-e0566959a4df')\"\n",
              "              title=\"Convert this dataframe to an interactive table.\"\n",
              "              style=\"display:none;\">\n",
              "        \n",
              "  <svg xmlns=\"http://www.w3.org/2000/svg\" height=\"24px\"viewBox=\"0 0 24 24\"\n",
              "       width=\"24px\">\n",
              "    <path d=\"M0 0h24v24H0V0z\" fill=\"none\"/>\n",
              "    <path d=\"M18.56 5.44l.94 2.06.94-2.06 2.06-.94-2.06-.94-.94-2.06-.94 2.06-2.06.94zm-11 1L8.5 8.5l.94-2.06 2.06-.94-2.06-.94L8.5 2.5l-.94 2.06-2.06.94zm10 10l.94 2.06.94-2.06 2.06-.94-2.06-.94-.94-2.06-.94 2.06-2.06.94z\"/><path d=\"M17.41 7.96l-1.37-1.37c-.4-.4-.92-.59-1.43-.59-.52 0-1.04.2-1.43.59L10.3 9.45l-7.72 7.72c-.78.78-.78 2.05 0 2.83L4 21.41c.39.39.9.59 1.41.59.51 0 1.02-.2 1.41-.59l7.78-7.78 2.81-2.81c.8-.78.8-2.07 0-2.86zM5.41 20L4 18.59l7.72-7.72 1.47 1.35L5.41 20z\"/>\n",
              "  </svg>\n",
              "      </button>\n",
              "      \n",
              "  <style>\n",
              "    .colab-df-container {\n",
              "      display:flex;\n",
              "      flex-wrap:wrap;\n",
              "      gap: 12px;\n",
              "    }\n",
              "\n",
              "    .colab-df-convert {\n",
              "      background-color: #E8F0FE;\n",
              "      border: none;\n",
              "      border-radius: 50%;\n",
              "      cursor: pointer;\n",
              "      display: none;\n",
              "      fill: #1967D2;\n",
              "      height: 32px;\n",
              "      padding: 0 0 0 0;\n",
              "      width: 32px;\n",
              "    }\n",
              "\n",
              "    .colab-df-convert:hover {\n",
              "      background-color: #E2EBFA;\n",
              "      box-shadow: 0px 1px 2px rgba(60, 64, 67, 0.3), 0px 1px 3px 1px rgba(60, 64, 67, 0.15);\n",
              "      fill: #174EA6;\n",
              "    }\n",
              "\n",
              "    [theme=dark] .colab-df-convert {\n",
              "      background-color: #3B4455;\n",
              "      fill: #D2E3FC;\n",
              "    }\n",
              "\n",
              "    [theme=dark] .colab-df-convert:hover {\n",
              "      background-color: #434B5C;\n",
              "      box-shadow: 0px 1px 3px 1px rgba(0, 0, 0, 0.15);\n",
              "      filter: drop-shadow(0px 1px 2px rgba(0, 0, 0, 0.3));\n",
              "      fill: #FFFFFF;\n",
              "    }\n",
              "  </style>\n",
              "\n",
              "      <script>\n",
              "        const buttonEl =\n",
              "          document.querySelector('#df-5d585c28-7b94-4bc7-a5a6-e0566959a4df button.colab-df-convert');\n",
              "        buttonEl.style.display =\n",
              "          google.colab.kernel.accessAllowed ? 'block' : 'none';\n",
              "\n",
              "        async function convertToInteractive(key) {\n",
              "          const element = document.querySelector('#df-5d585c28-7b94-4bc7-a5a6-e0566959a4df');\n",
              "          const dataTable =\n",
              "            await google.colab.kernel.invokeFunction('convertToInteractive',\n",
              "                                                     [key], {});\n",
              "          if (!dataTable) return;\n",
              "\n",
              "          const docLinkHtml = 'Like what you see? Visit the ' +\n",
              "            '<a target=\"_blank\" href=https://colab.research.google.com/notebooks/data_table.ipynb>data table notebook</a>'\n",
              "            + ' to learn more about interactive tables.';\n",
              "          element.innerHTML = '';\n",
              "          dataTable['output_type'] = 'display_data';\n",
              "          await google.colab.output.renderOutput(dataTable, element);\n",
              "          const docLink = document.createElement('div');\n",
              "          docLink.innerHTML = docLinkHtml;\n",
              "          element.appendChild(docLink);\n",
              "        }\n",
              "      </script>\n",
              "    </div>\n",
              "  </div>\n",
              "  "
            ]
          },
          "metadata": {},
          "execution_count": 8
        }
      ],
      "source": [
        "data.sample(5)"
      ]
    },
    {
      "cell_type": "code",
      "execution_count": null,
      "metadata": {
        "colab": {
          "base_uri": "https://localhost:8080/"
        },
        "id": "jAdm3dM88aOL",
        "outputId": "497e43fb-bd59-4b00-d869-cfce0ecc1dd7"
      },
      "outputs": [
        {
          "output_type": "execute_result",
          "data": {
            "text/plain": [
              "Index(['Delta_TP9', 'Delta_AF7', 'Delta_AF8', 'Delta_TP10', 'Theta_TP9',\n",
              "       'Theta_AF7', 'Theta_AF8', 'Theta_TP10', 'Alpha_TP9', 'Alpha_AF7',\n",
              "       'Alpha_AF8', 'Alpha_TP10', 'Beta_TP9', 'Beta_AF7', 'Beta_AF8',\n",
              "       'Beta_TP10', 'Gamma_TP9', 'Gamma_AF7', 'Gamma_AF8', 'Gamma_TP10',\n",
              "       'PSS Score'],\n",
              "      dtype='object')"
            ]
          },
          "metadata": {},
          "execution_count": 9
        }
      ],
      "source": [
        "data.columns"
      ]
    },
    {
      "cell_type": "code",
      "execution_count": null,
      "metadata": {
        "colab": {
          "base_uri": "https://localhost:8080/"
        },
        "id": "MBQmXE3W8lWV",
        "outputId": "f154f6a2-625c-46b8-8fd7-e5df4e64b3b8"
      },
      "outputs": [
        {
          "output_type": "execute_result",
          "data": {
            "text/plain": [
              "Delta_TP9     float64\n",
              "Delta_AF7      object\n",
              "Delta_AF8      object\n",
              "Delta_TP10    float64\n",
              "Theta_TP9     float64\n",
              "Theta_AF7      object\n",
              "Theta_AF8      object\n",
              "Theta_TP10    float64\n",
              "Alpha_TP9     float64\n",
              "Alpha_AF7      object\n",
              "Alpha_AF8      object\n",
              "Alpha_TP10    float64\n",
              "Beta_TP9      float64\n",
              "Beta_AF7       object\n",
              "Beta_AF8       object\n",
              "Beta_TP10     float64\n",
              "Gamma_TP9     float64\n",
              "Gamma_AF7      object\n",
              "Gamma_AF8      object\n",
              "Gamma_TP10    float64\n",
              "PSS Score       int64\n",
              "dtype: object"
            ]
          },
          "metadata": {},
          "execution_count": 10
        }
      ],
      "source": [
        "data.dtypes"
      ]
    },
    {
      "cell_type": "code",
      "execution_count": null,
      "metadata": {
        "colab": {
          "base_uri": "https://localhost:8080/",
          "height": 317
        },
        "id": "dziIzi6x8waG",
        "outputId": "3747a0b8-22e3-49c8-d139-68f60c9c15cf"
      },
      "outputs": [
        {
          "output_type": "execute_result",
          "data": {
            "text/plain": [
              "         Delta_TP9 Delta_AF7 Delta_AF8  Delta_TP10  Theta_TP9 Theta_AF7  \\\n",
              "1025299   0.002082 -0.124669  0.397337    0.282320   0.054589 -0.702157   \n",
              "1025300  -0.007930 -0.118594  0.396447    0.311001   0.054589 -0.702157   \n",
              "1025301  -0.007930 -0.118594  0.396447    0.311001   0.075607 -0.659387   \n",
              "1025302  -0.007930 -0.118594  0.396447    0.311001   0.075607 -0.659387   \n",
              "1025303  -0.007930 -0.118594  0.396447    0.311001   0.075607 -0.659387   \n",
              "\n",
              "        Theta_AF8  Theta_TP10  Alpha_TP9 Alpha_AF7  ... Alpha_TP10  Beta_TP9  \\\n",
              "1025299 -0.086733    0.163435    0.81956 -0.147193  ...   0.564945  0.687289   \n",
              "1025300 -0.086733    0.163435    0.81956 -0.147193  ...   0.564945  0.687289   \n",
              "1025301 -0.086345    0.169441    0.81956 -0.147193  ...   0.564945  0.687289   \n",
              "1025302 -0.086345    0.169441    0.81956 -0.147193  ...   0.564945  0.687289   \n",
              "1025303 -0.086345    0.169441    0.81956 -0.147193  ...   0.564945  0.687289   \n",
              "\n",
              "         Beta_AF7  Beta_AF8 Beta_TP10  Gamma_TP9  Gamma_AF7 Gamma_AF8  \\\n",
              "1025299 -0.027394  0.671715  0.492704   0.329745  -0.276349  0.332195   \n",
              "1025300 -0.027394  0.671715  0.492704   0.329745  -0.276349  0.332195   \n",
              "1025301 -0.027394  0.671715  0.492704   0.329745  -0.276349  0.332195   \n",
              "1025302 -0.027394  0.671715  0.492704   0.329939  -0.282883  0.318434   \n",
              "1025303 -0.027394  0.671715  0.492704   0.329939  -0.282883  0.318434   \n",
              "\n",
              "        Gamma_TP10  PSS Score  \n",
              "1025299   0.296686         26  \n",
              "1025300   0.296686         26  \n",
              "1025301   0.296686         26  \n",
              "1025302   0.300568         26  \n",
              "1025303   0.300568         26  \n",
              "\n",
              "[5 rows x 21 columns]"
            ],
            "text/html": [
              "\n",
              "  <div id=\"df-6dc40980-180d-49d0-ade7-d2f368989216\">\n",
              "    <div class=\"colab-df-container\">\n",
              "      <div>\n",
              "<style scoped>\n",
              "    .dataframe tbody tr th:only-of-type {\n",
              "        vertical-align: middle;\n",
              "    }\n",
              "\n",
              "    .dataframe tbody tr th {\n",
              "        vertical-align: top;\n",
              "    }\n",
              "\n",
              "    .dataframe thead th {\n",
              "        text-align: right;\n",
              "    }\n",
              "</style>\n",
              "<table border=\"1\" class=\"dataframe\">\n",
              "  <thead>\n",
              "    <tr style=\"text-align: right;\">\n",
              "      <th></th>\n",
              "      <th>Delta_TP9</th>\n",
              "      <th>Delta_AF7</th>\n",
              "      <th>Delta_AF8</th>\n",
              "      <th>Delta_TP10</th>\n",
              "      <th>Theta_TP9</th>\n",
              "      <th>Theta_AF7</th>\n",
              "      <th>Theta_AF8</th>\n",
              "      <th>Theta_TP10</th>\n",
              "      <th>Alpha_TP9</th>\n",
              "      <th>Alpha_AF7</th>\n",
              "      <th>...</th>\n",
              "      <th>Alpha_TP10</th>\n",
              "      <th>Beta_TP9</th>\n",
              "      <th>Beta_AF7</th>\n",
              "      <th>Beta_AF8</th>\n",
              "      <th>Beta_TP10</th>\n",
              "      <th>Gamma_TP9</th>\n",
              "      <th>Gamma_AF7</th>\n",
              "      <th>Gamma_AF8</th>\n",
              "      <th>Gamma_TP10</th>\n",
              "      <th>PSS Score</th>\n",
              "    </tr>\n",
              "  </thead>\n",
              "  <tbody>\n",
              "    <tr>\n",
              "      <th>1025299</th>\n",
              "      <td>0.002082</td>\n",
              "      <td>-0.124669</td>\n",
              "      <td>0.397337</td>\n",
              "      <td>0.282320</td>\n",
              "      <td>0.054589</td>\n",
              "      <td>-0.702157</td>\n",
              "      <td>-0.086733</td>\n",
              "      <td>0.163435</td>\n",
              "      <td>0.81956</td>\n",
              "      <td>-0.147193</td>\n",
              "      <td>...</td>\n",
              "      <td>0.564945</td>\n",
              "      <td>0.687289</td>\n",
              "      <td>-0.027394</td>\n",
              "      <td>0.671715</td>\n",
              "      <td>0.492704</td>\n",
              "      <td>0.329745</td>\n",
              "      <td>-0.276349</td>\n",
              "      <td>0.332195</td>\n",
              "      <td>0.296686</td>\n",
              "      <td>26</td>\n",
              "    </tr>\n",
              "    <tr>\n",
              "      <th>1025300</th>\n",
              "      <td>-0.007930</td>\n",
              "      <td>-0.118594</td>\n",
              "      <td>0.396447</td>\n",
              "      <td>0.311001</td>\n",
              "      <td>0.054589</td>\n",
              "      <td>-0.702157</td>\n",
              "      <td>-0.086733</td>\n",
              "      <td>0.163435</td>\n",
              "      <td>0.81956</td>\n",
              "      <td>-0.147193</td>\n",
              "      <td>...</td>\n",
              "      <td>0.564945</td>\n",
              "      <td>0.687289</td>\n",
              "      <td>-0.027394</td>\n",
              "      <td>0.671715</td>\n",
              "      <td>0.492704</td>\n",
              "      <td>0.329745</td>\n",
              "      <td>-0.276349</td>\n",
              "      <td>0.332195</td>\n",
              "      <td>0.296686</td>\n",
              "      <td>26</td>\n",
              "    </tr>\n",
              "    <tr>\n",
              "      <th>1025301</th>\n",
              "      <td>-0.007930</td>\n",
              "      <td>-0.118594</td>\n",
              "      <td>0.396447</td>\n",
              "      <td>0.311001</td>\n",
              "      <td>0.075607</td>\n",
              "      <td>-0.659387</td>\n",
              "      <td>-0.086345</td>\n",
              "      <td>0.169441</td>\n",
              "      <td>0.81956</td>\n",
              "      <td>-0.147193</td>\n",
              "      <td>...</td>\n",
              "      <td>0.564945</td>\n",
              "      <td>0.687289</td>\n",
              "      <td>-0.027394</td>\n",
              "      <td>0.671715</td>\n",
              "      <td>0.492704</td>\n",
              "      <td>0.329745</td>\n",
              "      <td>-0.276349</td>\n",
              "      <td>0.332195</td>\n",
              "      <td>0.296686</td>\n",
              "      <td>26</td>\n",
              "    </tr>\n",
              "    <tr>\n",
              "      <th>1025302</th>\n",
              "      <td>-0.007930</td>\n",
              "      <td>-0.118594</td>\n",
              "      <td>0.396447</td>\n",
              "      <td>0.311001</td>\n",
              "      <td>0.075607</td>\n",
              "      <td>-0.659387</td>\n",
              "      <td>-0.086345</td>\n",
              "      <td>0.169441</td>\n",
              "      <td>0.81956</td>\n",
              "      <td>-0.147193</td>\n",
              "      <td>...</td>\n",
              "      <td>0.564945</td>\n",
              "      <td>0.687289</td>\n",
              "      <td>-0.027394</td>\n",
              "      <td>0.671715</td>\n",
              "      <td>0.492704</td>\n",
              "      <td>0.329939</td>\n",
              "      <td>-0.282883</td>\n",
              "      <td>0.318434</td>\n",
              "      <td>0.300568</td>\n",
              "      <td>26</td>\n",
              "    </tr>\n",
              "    <tr>\n",
              "      <th>1025303</th>\n",
              "      <td>-0.007930</td>\n",
              "      <td>-0.118594</td>\n",
              "      <td>0.396447</td>\n",
              "      <td>0.311001</td>\n",
              "      <td>0.075607</td>\n",
              "      <td>-0.659387</td>\n",
              "      <td>-0.086345</td>\n",
              "      <td>0.169441</td>\n",
              "      <td>0.81956</td>\n",
              "      <td>-0.147193</td>\n",
              "      <td>...</td>\n",
              "      <td>0.564945</td>\n",
              "      <td>0.687289</td>\n",
              "      <td>-0.027394</td>\n",
              "      <td>0.671715</td>\n",
              "      <td>0.492704</td>\n",
              "      <td>0.329939</td>\n",
              "      <td>-0.282883</td>\n",
              "      <td>0.318434</td>\n",
              "      <td>0.300568</td>\n",
              "      <td>26</td>\n",
              "    </tr>\n",
              "  </tbody>\n",
              "</table>\n",
              "<p>5 rows × 21 columns</p>\n",
              "</div>\n",
              "      <button class=\"colab-df-convert\" onclick=\"convertToInteractive('df-6dc40980-180d-49d0-ade7-d2f368989216')\"\n",
              "              title=\"Convert this dataframe to an interactive table.\"\n",
              "              style=\"display:none;\">\n",
              "        \n",
              "  <svg xmlns=\"http://www.w3.org/2000/svg\" height=\"24px\"viewBox=\"0 0 24 24\"\n",
              "       width=\"24px\">\n",
              "    <path d=\"M0 0h24v24H0V0z\" fill=\"none\"/>\n",
              "    <path d=\"M18.56 5.44l.94 2.06.94-2.06 2.06-.94-2.06-.94-.94-2.06-.94 2.06-2.06.94zm-11 1L8.5 8.5l.94-2.06 2.06-.94-2.06-.94L8.5 2.5l-.94 2.06-2.06.94zm10 10l.94 2.06.94-2.06 2.06-.94-2.06-.94-.94-2.06-.94 2.06-2.06.94z\"/><path d=\"M17.41 7.96l-1.37-1.37c-.4-.4-.92-.59-1.43-.59-.52 0-1.04.2-1.43.59L10.3 9.45l-7.72 7.72c-.78.78-.78 2.05 0 2.83L4 21.41c.39.39.9.59 1.41.59.51 0 1.02-.2 1.41-.59l7.78-7.78 2.81-2.81c.8-.78.8-2.07 0-2.86zM5.41 20L4 18.59l7.72-7.72 1.47 1.35L5.41 20z\"/>\n",
              "  </svg>\n",
              "      </button>\n",
              "      \n",
              "  <style>\n",
              "    .colab-df-container {\n",
              "      display:flex;\n",
              "      flex-wrap:wrap;\n",
              "      gap: 12px;\n",
              "    }\n",
              "\n",
              "    .colab-df-convert {\n",
              "      background-color: #E8F0FE;\n",
              "      border: none;\n",
              "      border-radius: 50%;\n",
              "      cursor: pointer;\n",
              "      display: none;\n",
              "      fill: #1967D2;\n",
              "      height: 32px;\n",
              "      padding: 0 0 0 0;\n",
              "      width: 32px;\n",
              "    }\n",
              "\n",
              "    .colab-df-convert:hover {\n",
              "      background-color: #E2EBFA;\n",
              "      box-shadow: 0px 1px 2px rgba(60, 64, 67, 0.3), 0px 1px 3px 1px rgba(60, 64, 67, 0.15);\n",
              "      fill: #174EA6;\n",
              "    }\n",
              "\n",
              "    [theme=dark] .colab-df-convert {\n",
              "      background-color: #3B4455;\n",
              "      fill: #D2E3FC;\n",
              "    }\n",
              "\n",
              "    [theme=dark] .colab-df-convert:hover {\n",
              "      background-color: #434B5C;\n",
              "      box-shadow: 0px 1px 3px 1px rgba(0, 0, 0, 0.15);\n",
              "      filter: drop-shadow(0px 1px 2px rgba(0, 0, 0, 0.3));\n",
              "      fill: #FFFFFF;\n",
              "    }\n",
              "  </style>\n",
              "\n",
              "      <script>\n",
              "        const buttonEl =\n",
              "          document.querySelector('#df-6dc40980-180d-49d0-ade7-d2f368989216 button.colab-df-convert');\n",
              "        buttonEl.style.display =\n",
              "          google.colab.kernel.accessAllowed ? 'block' : 'none';\n",
              "\n",
              "        async function convertToInteractive(key) {\n",
              "          const element = document.querySelector('#df-6dc40980-180d-49d0-ade7-d2f368989216');\n",
              "          const dataTable =\n",
              "            await google.colab.kernel.invokeFunction('convertToInteractive',\n",
              "                                                     [key], {});\n",
              "          if (!dataTable) return;\n",
              "\n",
              "          const docLinkHtml = 'Like what you see? Visit the ' +\n",
              "            '<a target=\"_blank\" href=https://colab.research.google.com/notebooks/data_table.ipynb>data table notebook</a>'\n",
              "            + ' to learn more about interactive tables.';\n",
              "          element.innerHTML = '';\n",
              "          dataTable['output_type'] = 'display_data';\n",
              "          await google.colab.output.renderOutput(dataTable, element);\n",
              "          const docLink = document.createElement('div');\n",
              "          docLink.innerHTML = docLinkHtml;\n",
              "          element.appendChild(docLink);\n",
              "        }\n",
              "      </script>\n",
              "    </div>\n",
              "  </div>\n",
              "  "
            ]
          },
          "metadata": {},
          "execution_count": 11
        }
      ],
      "source": [
        "data.tail()"
      ]
    },
    {
      "cell_type": "code",
      "execution_count": null,
      "metadata": {
        "colab": {
          "base_uri": "https://localhost:8080/"
        },
        "id": "CsUnfCjp843W",
        "outputId": "ea696178-a18e-430f-b304-fdbd6774829b"
      },
      "outputs": [
        {
          "output_type": "stream",
          "name": "stdout",
          "text": [
            "<class 'pandas.core.frame.DataFrame'>\n",
            "RangeIndex: 1025304 entries, 0 to 1025303\n",
            "Data columns (total 21 columns):\n",
            " #   Column      Non-Null Count    Dtype  \n",
            "---  ------      --------------    -----  \n",
            " 0   Delta_TP9   1025304 non-null  float64\n",
            " 1   Delta_AF7   1025304 non-null  object \n",
            " 2   Delta_AF8   1025304 non-null  object \n",
            " 3   Delta_TP10  1025304 non-null  float64\n",
            " 4   Theta_TP9   1025304 non-null  float64\n",
            " 5   Theta_AF7   1025304 non-null  object \n",
            " 6   Theta_AF8   1025304 non-null  object \n",
            " 7   Theta_TP10  1025304 non-null  float64\n",
            " 8   Alpha_TP9   1025304 non-null  float64\n",
            " 9   Alpha_AF7   1025304 non-null  object \n",
            " 10  Alpha_AF8   1025304 non-null  object \n",
            " 11  Alpha_TP10  1025304 non-null  float64\n",
            " 12  Beta_TP9    1025304 non-null  float64\n",
            " 13  Beta_AF7    1025304 non-null  object \n",
            " 14  Beta_AF8    1025304 non-null  object \n",
            " 15  Beta_TP10   1025304 non-null  float64\n",
            " 16  Gamma_TP9   1025304 non-null  float64\n",
            " 17  Gamma_AF7   1025304 non-null  object \n",
            " 18  Gamma_AF8   1025304 non-null  object \n",
            " 19  Gamma_TP10  1025304 non-null  float64\n",
            " 20  PSS Score   1025304 non-null  int64  \n",
            "dtypes: float64(10), int64(1), object(10)\n",
            "memory usage: 164.3+ MB\n"
          ]
        }
      ],
      "source": [
        "data.info()"
      ]
    },
    {
      "cell_type": "code",
      "source": [],
      "metadata": {
        "id": "4G8FNInR5nBm"
      },
      "execution_count": null,
      "outputs": []
    },
    {
      "cell_type": "code",
      "execution_count": null,
      "metadata": {
        "colab": {
          "base_uri": "https://localhost:8080/",
          "height": 381
        },
        "id": "-htK8AD789Fc",
        "outputId": "44b0b3d2-8f54-4acd-ac55-ce9d119a1c32"
      },
      "outputs": [
        {
          "output_type": "execute_result",
          "data": {
            "text/plain": [
              "          Delta_TP9    Delta_TP10     Theta_TP9    Theta_TP10     Alpha_TP9  \\\n",
              "count  1.025304e+06  1.025304e+06  1.025304e+06  1.025304e+06  1.025304e+06   \n",
              "mean   8.888667e-01  8.276091e-01  5.388915e-01  5.350754e-01  7.731550e-01   \n",
              "std    6.555932e-01  7.493722e-01  4.733851e-01  5.740761e-01  4.426019e-01   \n",
              "min   -7.965505e-01 -9.092255e-01 -8.658641e-01 -8.194305e-01 -3.031249e-01   \n",
              "25%    4.346618e-01  3.963191e-01  2.178041e-01  1.786618e-01  4.889160e-01   \n",
              "50%    8.026528e-01  6.972474e-01  4.808883e-01  4.203902e-01  7.226793e-01   \n",
              "75%    1.214200e+00  1.106277e+00  7.840617e-01  7.259224e-01  9.837571e-01   \n",
              "max    3.829172e+00  4.300904e+00  2.862053e+00  3.555768e+00  3.069386e+00   \n",
              "\n",
              "         Alpha_TP10      Beta_TP9     Beta_TP10     Gamma_TP9    Gamma_TP10  \\\n",
              "count  1.025304e+06  1.025304e+06  1.025304e+06  1.025304e+06  1.025304e+06   \n",
              "mean   7.321501e-01  6.336207e-01  6.207689e-01  3.996586e-01  3.814948e-01   \n",
              "std    5.398660e-01  3.607875e-01  4.282777e-01  3.912496e-01  4.558694e-01   \n",
              "min   -2.895044e-01 -3.067024e-01 -2.491472e-01 -7.755272e-01 -7.750586e-01   \n",
              "25%    4.263028e-01  3.891114e-01  3.879552e-01  1.354664e-01  9.600097e-02   \n",
              "50%    6.537370e-01  5.816393e-01  5.628928e-01  3.527743e-01  3.413910e-01   \n",
              "75%    9.101216e-01  8.356681e-01  7.386655e-01  6.430042e-01  5.731013e-01   \n",
              "max    3.617831e+00  2.342173e+00  2.939200e+00  1.747584e+00  2.351019e+00   \n",
              "\n",
              "          PSS Score  \n",
              "count  1.025304e+06  \n",
              "mean   2.221429e+01  \n",
              "std    6.349115e+00  \n",
              "min    9.000000e+00  \n",
              "25%    1.775000e+01  \n",
              "50%    2.100000e+01  \n",
              "75%    2.650000e+01  \n",
              "max    3.500000e+01  "
            ],
            "text/html": [
              "\n",
              "  <div id=\"df-14b1b8ca-a56e-46fa-b656-f15be7c86f7a\">\n",
              "    <div class=\"colab-df-container\">\n",
              "      <div>\n",
              "<style scoped>\n",
              "    .dataframe tbody tr th:only-of-type {\n",
              "        vertical-align: middle;\n",
              "    }\n",
              "\n",
              "    .dataframe tbody tr th {\n",
              "        vertical-align: top;\n",
              "    }\n",
              "\n",
              "    .dataframe thead th {\n",
              "        text-align: right;\n",
              "    }\n",
              "</style>\n",
              "<table border=\"1\" class=\"dataframe\">\n",
              "  <thead>\n",
              "    <tr style=\"text-align: right;\">\n",
              "      <th></th>\n",
              "      <th>Delta_TP9</th>\n",
              "      <th>Delta_TP10</th>\n",
              "      <th>Theta_TP9</th>\n",
              "      <th>Theta_TP10</th>\n",
              "      <th>Alpha_TP9</th>\n",
              "      <th>Alpha_TP10</th>\n",
              "      <th>Beta_TP9</th>\n",
              "      <th>Beta_TP10</th>\n",
              "      <th>Gamma_TP9</th>\n",
              "      <th>Gamma_TP10</th>\n",
              "      <th>PSS Score</th>\n",
              "    </tr>\n",
              "  </thead>\n",
              "  <tbody>\n",
              "    <tr>\n",
              "      <th>count</th>\n",
              "      <td>1.025304e+06</td>\n",
              "      <td>1.025304e+06</td>\n",
              "      <td>1.025304e+06</td>\n",
              "      <td>1.025304e+06</td>\n",
              "      <td>1.025304e+06</td>\n",
              "      <td>1.025304e+06</td>\n",
              "      <td>1.025304e+06</td>\n",
              "      <td>1.025304e+06</td>\n",
              "      <td>1.025304e+06</td>\n",
              "      <td>1.025304e+06</td>\n",
              "      <td>1.025304e+06</td>\n",
              "    </tr>\n",
              "    <tr>\n",
              "      <th>mean</th>\n",
              "      <td>8.888667e-01</td>\n",
              "      <td>8.276091e-01</td>\n",
              "      <td>5.388915e-01</td>\n",
              "      <td>5.350754e-01</td>\n",
              "      <td>7.731550e-01</td>\n",
              "      <td>7.321501e-01</td>\n",
              "      <td>6.336207e-01</td>\n",
              "      <td>6.207689e-01</td>\n",
              "      <td>3.996586e-01</td>\n",
              "      <td>3.814948e-01</td>\n",
              "      <td>2.221429e+01</td>\n",
              "    </tr>\n",
              "    <tr>\n",
              "      <th>std</th>\n",
              "      <td>6.555932e-01</td>\n",
              "      <td>7.493722e-01</td>\n",
              "      <td>4.733851e-01</td>\n",
              "      <td>5.740761e-01</td>\n",
              "      <td>4.426019e-01</td>\n",
              "      <td>5.398660e-01</td>\n",
              "      <td>3.607875e-01</td>\n",
              "      <td>4.282777e-01</td>\n",
              "      <td>3.912496e-01</td>\n",
              "      <td>4.558694e-01</td>\n",
              "      <td>6.349115e+00</td>\n",
              "    </tr>\n",
              "    <tr>\n",
              "      <th>min</th>\n",
              "      <td>-7.965505e-01</td>\n",
              "      <td>-9.092255e-01</td>\n",
              "      <td>-8.658641e-01</td>\n",
              "      <td>-8.194305e-01</td>\n",
              "      <td>-3.031249e-01</td>\n",
              "      <td>-2.895044e-01</td>\n",
              "      <td>-3.067024e-01</td>\n",
              "      <td>-2.491472e-01</td>\n",
              "      <td>-7.755272e-01</td>\n",
              "      <td>-7.750586e-01</td>\n",
              "      <td>9.000000e+00</td>\n",
              "    </tr>\n",
              "    <tr>\n",
              "      <th>25%</th>\n",
              "      <td>4.346618e-01</td>\n",
              "      <td>3.963191e-01</td>\n",
              "      <td>2.178041e-01</td>\n",
              "      <td>1.786618e-01</td>\n",
              "      <td>4.889160e-01</td>\n",
              "      <td>4.263028e-01</td>\n",
              "      <td>3.891114e-01</td>\n",
              "      <td>3.879552e-01</td>\n",
              "      <td>1.354664e-01</td>\n",
              "      <td>9.600097e-02</td>\n",
              "      <td>1.775000e+01</td>\n",
              "    </tr>\n",
              "    <tr>\n",
              "      <th>50%</th>\n",
              "      <td>8.026528e-01</td>\n",
              "      <td>6.972474e-01</td>\n",
              "      <td>4.808883e-01</td>\n",
              "      <td>4.203902e-01</td>\n",
              "      <td>7.226793e-01</td>\n",
              "      <td>6.537370e-01</td>\n",
              "      <td>5.816393e-01</td>\n",
              "      <td>5.628928e-01</td>\n",
              "      <td>3.527743e-01</td>\n",
              "      <td>3.413910e-01</td>\n",
              "      <td>2.100000e+01</td>\n",
              "    </tr>\n",
              "    <tr>\n",
              "      <th>75%</th>\n",
              "      <td>1.214200e+00</td>\n",
              "      <td>1.106277e+00</td>\n",
              "      <td>7.840617e-01</td>\n",
              "      <td>7.259224e-01</td>\n",
              "      <td>9.837571e-01</td>\n",
              "      <td>9.101216e-01</td>\n",
              "      <td>8.356681e-01</td>\n",
              "      <td>7.386655e-01</td>\n",
              "      <td>6.430042e-01</td>\n",
              "      <td>5.731013e-01</td>\n",
              "      <td>2.650000e+01</td>\n",
              "    </tr>\n",
              "    <tr>\n",
              "      <th>max</th>\n",
              "      <td>3.829172e+00</td>\n",
              "      <td>4.300904e+00</td>\n",
              "      <td>2.862053e+00</td>\n",
              "      <td>3.555768e+00</td>\n",
              "      <td>3.069386e+00</td>\n",
              "      <td>3.617831e+00</td>\n",
              "      <td>2.342173e+00</td>\n",
              "      <td>2.939200e+00</td>\n",
              "      <td>1.747584e+00</td>\n",
              "      <td>2.351019e+00</td>\n",
              "      <td>3.500000e+01</td>\n",
              "    </tr>\n",
              "  </tbody>\n",
              "</table>\n",
              "</div>\n",
              "      <button class=\"colab-df-convert\" onclick=\"convertToInteractive('df-14b1b8ca-a56e-46fa-b656-f15be7c86f7a')\"\n",
              "              title=\"Convert this dataframe to an interactive table.\"\n",
              "              style=\"display:none;\">\n",
              "        \n",
              "  <svg xmlns=\"http://www.w3.org/2000/svg\" height=\"24px\"viewBox=\"0 0 24 24\"\n",
              "       width=\"24px\">\n",
              "    <path d=\"M0 0h24v24H0V0z\" fill=\"none\"/>\n",
              "    <path d=\"M18.56 5.44l.94 2.06.94-2.06 2.06-.94-2.06-.94-.94-2.06-.94 2.06-2.06.94zm-11 1L8.5 8.5l.94-2.06 2.06-.94-2.06-.94L8.5 2.5l-.94 2.06-2.06.94zm10 10l.94 2.06.94-2.06 2.06-.94-2.06-.94-.94-2.06-.94 2.06-2.06.94z\"/><path d=\"M17.41 7.96l-1.37-1.37c-.4-.4-.92-.59-1.43-.59-.52 0-1.04.2-1.43.59L10.3 9.45l-7.72 7.72c-.78.78-.78 2.05 0 2.83L4 21.41c.39.39.9.59 1.41.59.51 0 1.02-.2 1.41-.59l7.78-7.78 2.81-2.81c.8-.78.8-2.07 0-2.86zM5.41 20L4 18.59l7.72-7.72 1.47 1.35L5.41 20z\"/>\n",
              "  </svg>\n",
              "      </button>\n",
              "      \n",
              "  <style>\n",
              "    .colab-df-container {\n",
              "      display:flex;\n",
              "      flex-wrap:wrap;\n",
              "      gap: 12px;\n",
              "    }\n",
              "\n",
              "    .colab-df-convert {\n",
              "      background-color: #E8F0FE;\n",
              "      border: none;\n",
              "      border-radius: 50%;\n",
              "      cursor: pointer;\n",
              "      display: none;\n",
              "      fill: #1967D2;\n",
              "      height: 32px;\n",
              "      padding: 0 0 0 0;\n",
              "      width: 32px;\n",
              "    }\n",
              "\n",
              "    .colab-df-convert:hover {\n",
              "      background-color: #E2EBFA;\n",
              "      box-shadow: 0px 1px 2px rgba(60, 64, 67, 0.3), 0px 1px 3px 1px rgba(60, 64, 67, 0.15);\n",
              "      fill: #174EA6;\n",
              "    }\n",
              "\n",
              "    [theme=dark] .colab-df-convert {\n",
              "      background-color: #3B4455;\n",
              "      fill: #D2E3FC;\n",
              "    }\n",
              "\n",
              "    [theme=dark] .colab-df-convert:hover {\n",
              "      background-color: #434B5C;\n",
              "      box-shadow: 0px 1px 3px 1px rgba(0, 0, 0, 0.15);\n",
              "      filter: drop-shadow(0px 1px 2px rgba(0, 0, 0, 0.3));\n",
              "      fill: #FFFFFF;\n",
              "    }\n",
              "  </style>\n",
              "\n",
              "      <script>\n",
              "        const buttonEl =\n",
              "          document.querySelector('#df-14b1b8ca-a56e-46fa-b656-f15be7c86f7a button.colab-df-convert');\n",
              "        buttonEl.style.display =\n",
              "          google.colab.kernel.accessAllowed ? 'block' : 'none';\n",
              "\n",
              "        async function convertToInteractive(key) {\n",
              "          const element = document.querySelector('#df-14b1b8ca-a56e-46fa-b656-f15be7c86f7a');\n",
              "          const dataTable =\n",
              "            await google.colab.kernel.invokeFunction('convertToInteractive',\n",
              "                                                     [key], {});\n",
              "          if (!dataTable) return;\n",
              "\n",
              "          const docLinkHtml = 'Like what you see? Visit the ' +\n",
              "            '<a target=\"_blank\" href=https://colab.research.google.com/notebooks/data_table.ipynb>data table notebook</a>'\n",
              "            + ' to learn more about interactive tables.';\n",
              "          element.innerHTML = '';\n",
              "          dataTable['output_type'] = 'display_data';\n",
              "          await google.colab.output.renderOutput(dataTable, element);\n",
              "          const docLink = document.createElement('div');\n",
              "          docLink.innerHTML = docLinkHtml;\n",
              "          element.appendChild(docLink);\n",
              "        }\n",
              "      </script>\n",
              "    </div>\n",
              "  </div>\n",
              "  "
            ]
          },
          "metadata": {},
          "execution_count": 16
        }
      ],
      "source": [
        "data.describe()"
      ]
    },
    {
      "cell_type": "code",
      "execution_count": null,
      "metadata": {
        "colab": {
          "base_uri": "https://localhost:8080/"
        },
        "id": "wtS8ELJa9Cwq",
        "outputId": "4811c588-dacb-4c17-ce83-211b9a282eeb"
      },
      "outputs": [
        {
          "output_type": "execute_result",
          "data": {
            "text/plain": [
              "Delta_TP9     False\n",
              "Delta_AF7     False\n",
              "Delta_AF8     False\n",
              "Delta_TP10    False\n",
              "Theta_TP9     False\n",
              "Theta_AF7     False\n",
              "Theta_AF8     False\n",
              "Theta_TP10    False\n",
              "Alpha_TP9     False\n",
              "Alpha_AF7     False\n",
              "Alpha_AF8     False\n",
              "Alpha_TP10    False\n",
              "Beta_TP9      False\n",
              "Beta_AF7      False\n",
              "Beta_AF8      False\n",
              "Beta_TP10     False\n",
              "Gamma_TP9     False\n",
              "Gamma_AF7     False\n",
              "Gamma_AF8     False\n",
              "Gamma_TP10    False\n",
              "PSS Score     False\n",
              "dtype: bool"
            ]
          },
          "metadata": {},
          "execution_count": 17
        }
      ],
      "source": [
        "data.isnull().any()"
      ]
    },
    {
      "cell_type": "code",
      "execution_count": null,
      "metadata": {
        "colab": {
          "base_uri": "https://localhost:8080/"
        },
        "id": "jpL-XtRZ9Pir",
        "outputId": "b6d97c1d-4a00-4c97-b954-fa0960ec734e"
      },
      "outputs": [
        {
          "output_type": "execute_result",
          "data": {
            "text/plain": [
              "Delta_TP9     0\n",
              "Delta_AF7     0\n",
              "Delta_AF8     0\n",
              "Delta_TP10    0\n",
              "Theta_TP9     0\n",
              "Theta_AF7     0\n",
              "Theta_AF8     0\n",
              "Theta_TP10    0\n",
              "Alpha_TP9     0\n",
              "Alpha_AF7     0\n",
              "Alpha_AF8     0\n",
              "Alpha_TP10    0\n",
              "Beta_TP9      0\n",
              "Beta_AF7      0\n",
              "Beta_AF8      0\n",
              "Beta_TP10     0\n",
              "Gamma_TP9     0\n",
              "Gamma_AF7     0\n",
              "Gamma_AF8     0\n",
              "Gamma_TP10    0\n",
              "PSS Score     0\n",
              "dtype: int64"
            ]
          },
          "metadata": {},
          "execution_count": 18
        }
      ],
      "source": [
        "data.isnull().sum()"
      ]
    },
    {
      "cell_type": "code",
      "execution_count": null,
      "metadata": {
        "colab": {
          "base_uri": "https://localhost:8080/"
        },
        "id": "dGx7gXZm9URG",
        "outputId": "5cdff64e-0ce9-4aef-f160-8384d27eea8a"
      },
      "outputs": [
        {
          "output_type": "stream",
          "name": "stdout",
          "text": [
            "Total cols :  21  and total rows :  1025304\n"
          ]
        }
      ],
      "source": [
        "print('Total cols : ',data.shape[1],' and total rows : ',data.shape[0])\n"
      ]
    },
    {
      "cell_type": "code",
      "execution_count": null,
      "metadata": {
        "id": "OQbLhKnh9pbz"
      },
      "outputs": [],
      "source": []
    },
    {
      "cell_type": "code",
      "execution_count": null,
      "metadata": {
        "id": "hc8Lah0O93M4"
      },
      "outputs": [],
      "source": [
        "%matplotlib inline\n",
        "import matplotlib.pyplot as plt #for data visualizing\n",
        "import seaborn as sns \n",
        "color = sns.color_palette()"
      ]
    },
    {
      "cell_type": "code",
      "execution_count": null,
      "metadata": {
        "colab": {
          "base_uri": "https://localhost:8080/",
          "height": 684
        },
        "id": "0wISC4UM9z9C",
        "outputId": "b00e917e-debe-4163-ac18-7e0cd7877cdb"
      },
      "outputs": [
        {
          "output_type": "execute_result",
          "data": {
            "text/plain": [
              "[Text(0.5, 1.0, 'Correlation Matrix')]"
            ]
          },
          "metadata": {},
          "execution_count": 21
        },
        {
          "output_type": "display_data",
          "data": {
            "text/plain": [
              "<Figure size 864x720 with 2 Axes>"
            ],
            "image/png": "[encoded data removed]"
          },
          "metadata": {
            "needs_background": "light"
          }
        }
      ],
      "source": [
        "# Correlation matrix\n",
        "corr = data.corr() \n",
        "plt.figure(figsize=(12,10))\n",
        "sns.heatmap(data=corr, annot=True, cmap='Spectral').set(title=\"Correlation Matrix\")"
      ]
    },
    {
      "cell_type": "code",
      "execution_count": null,
      "metadata": {
        "colab": {
          "base_uri": "https://localhost:8080/",
          "height": 394
        },
        "id": "AtnNgu9B90xC",
        "outputId": "b078050d-0e5c-479c-d71f-ad3669f0cd44"
      },
      "outputs": [
        {
          "output_type": "execute_result",
          "data": {
            "text/plain": [
              "            Delta_TP9  Delta_TP10  Theta_TP9  Theta_TP10  Alpha_TP9  \\\n",
              "Delta_TP9        1.00        0.83       0.81        0.74       0.67   \n",
              "Delta_TP10       0.83        1.00       0.74        0.88       0.69   \n",
              "Theta_TP9        0.81        0.74       1.00        0.80       0.81   \n",
              "Theta_TP10       0.74        0.88       0.80        1.00       0.74   \n",
              "Alpha_TP9        0.67        0.69       0.81        0.74       1.00   \n",
              "Alpha_TP10       0.65        0.79       0.70        0.86       0.80   \n",
              "Beta_TP9         0.53        0.56       0.59        0.59       0.60   \n",
              "Beta_TP10        0.61        0.73       0.61        0.75       0.59   \n",
              "Gamma_TP9        0.42        0.41       0.41        0.42       0.35   \n",
              "Gamma_TP10       0.51        0.59       0.46        0.60       0.39   \n",
              "PSS Score       -0.26       -0.24      -0.24       -0.22      -0.22   \n",
              "\n",
              "            Alpha_TP10  Beta_TP9  Beta_TP10  Gamma_TP9  Gamma_TP10  PSS Score  \n",
              "Delta_TP9         0.65      0.53       0.61       0.42        0.51      -0.26  \n",
              "Delta_TP10        0.79      0.56       0.73       0.41        0.59      -0.24  \n",
              "Theta_TP9         0.70      0.59       0.61       0.41        0.46      -0.24  \n",
              "Theta_TP10        0.86      0.59       0.75       0.42        0.60      -0.22  \n",
              "Alpha_TP9         0.80      0.60       0.59       0.35        0.39      -0.22  \n",
              "Alpha_TP10        1.00      0.51       0.71       0.31        0.52      -0.17  \n",
              "Beta_TP9          0.51      1.00       0.71       0.83        0.64      -0.30  \n",
              "Beta_TP10         0.71      0.71       1.00       0.60        0.87      -0.38  \n",
              "Gamma_TP9         0.31      0.83       0.60       1.00        0.69      -0.26  \n",
              "Gamma_TP10        0.52      0.64       0.87       0.69        1.00      -0.35  \n",
              "PSS Score        -0.17     -0.30      -0.38      -0.26       -0.35       1.00  "
            ],
            "text/html": [
              "\n",
              "  <div id=\"df-380c5b72-a7a3-4644-9e57-a1b50c2af3e9\">\n",
              "    <div class=\"colab-df-container\">\n",
              "      <div>\n",
              "<style scoped>\n",
              "    .dataframe tbody tr th:only-of-type {\n",
              "        vertical-align: middle;\n",
              "    }\n",
              "\n",
              "    .dataframe tbody tr th {\n",
              "        vertical-align: top;\n",
              "    }\n",
              "\n",
              "    .dataframe thead th {\n",
              "        text-align: right;\n",
              "    }\n",
              "</style>\n",
              "<table border=\"1\" class=\"dataframe\">\n",
              "  <thead>\n",
              "    <tr style=\"text-align: right;\">\n",
              "      <th></th>\n",
              "      <th>Delta_TP9</th>\n",
              "      <th>Delta_TP10</th>\n",
              "      <th>Theta_TP9</th>\n",
              "      <th>Theta_TP10</th>\n",
              "      <th>Alpha_TP9</th>\n",
              "      <th>Alpha_TP10</th>\n",
              "      <th>Beta_TP9</th>\n",
              "      <th>Beta_TP10</th>\n",
              "      <th>Gamma_TP9</th>\n",
              "      <th>Gamma_TP10</th>\n",
              "      <th>PSS Score</th>\n",
              "    </tr>\n",
              "  </thead>\n",
              "  <tbody>\n",
              "    <tr>\n",
              "      <th>Delta_TP9</th>\n",
              "      <td>1.00</td>\n",
              "      <td>0.83</td>\n",
              "      <td>0.81</td>\n",
              "      <td>0.74</td>\n",
              "      <td>0.67</td>\n",
              "      <td>0.65</td>\n",
              "      <td>0.53</td>\n",
              "      <td>0.61</td>\n",
              "      <td>0.42</td>\n",
              "      <td>0.51</td>\n",
              "      <td>-0.26</td>\n",
              "    </tr>\n",
              "    <tr>\n",
              "      <th>Delta_TP10</th>\n",
              "      <td>0.83</td>\n",
              "      <td>1.00</td>\n",
              "      <td>0.74</td>\n",
              "      <td>0.88</td>\n",
              "      <td>0.69</td>\n",
              "      <td>0.79</td>\n",
              "      <td>0.56</td>\n",
              "      <td>0.73</td>\n",
              "      <td>0.41</td>\n",
              "      <td>0.59</td>\n",
              "      <td>-0.24</td>\n",
              "    </tr>\n",
              "    <tr>\n",
              "      <th>Theta_TP9</th>\n",
              "      <td>0.81</td>\n",
              "      <td>0.74</td>\n",
              "      <td>1.00</td>\n",
              "      <td>0.80</td>\n",
              "      <td>0.81</td>\n",
              "      <td>0.70</td>\n",
              "      <td>0.59</td>\n",
              "      <td>0.61</td>\n",
              "      <td>0.41</td>\n",
              "      <td>0.46</td>\n",
              "      <td>-0.24</td>\n",
              "    </tr>\n",
              "    <tr>\n",
              "      <th>Theta_TP10</th>\n",
              "      <td>0.74</td>\n",
              "      <td>0.88</td>\n",
              "      <td>0.80</td>\n",
              "      <td>1.00</td>\n",
              "      <td>0.74</td>\n",
              "      <td>0.86</td>\n",
              "      <td>0.59</td>\n",
              "      <td>0.75</td>\n",
              "      <td>0.42</td>\n",
              "      <td>0.60</td>\n",
              "      <td>-0.22</td>\n",
              "    </tr>\n",
              "    <tr>\n",
              "      <th>Alpha_TP9</th>\n",
              "      <td>0.67</td>\n",
              "      <td>0.69</td>\n",
              "      <td>0.81</td>\n",
              "      <td>0.74</td>\n",
              "      <td>1.00</td>\n",
              "      <td>0.80</td>\n",
              "      <td>0.60</td>\n",
              "      <td>0.59</td>\n",
              "      <td>0.35</td>\n",
              "      <td>0.39</td>\n",
              "      <td>-0.22</td>\n",
              "    </tr>\n",
              "    <tr>\n",
              "      <th>Alpha_TP10</th>\n",
              "      <td>0.65</td>\n",
              "      <td>0.79</td>\n",
              "      <td>0.70</td>\n",
              "      <td>0.86</td>\n",
              "      <td>0.80</td>\n",
              "      <td>1.00</td>\n",
              "      <td>0.51</td>\n",
              "      <td>0.71</td>\n",
              "      <td>0.31</td>\n",
              "      <td>0.52</td>\n",
              "      <td>-0.17</td>\n",
              "    </tr>\n",
              "    <tr>\n",
              "      <th>Beta_TP9</th>\n",
              "      <td>0.53</td>\n",
              "      <td>0.56</td>\n",
              "      <td>0.59</td>\n",
              "      <td>0.59</td>\n",
              "      <td>0.60</td>\n",
              "      <td>0.51</td>\n",
              "      <td>1.00</td>\n",
              "      <td>0.71</td>\n",
              "      <td>0.83</td>\n",
              "      <td>0.64</td>\n",
              "      <td>-0.30</td>\n",
              "    </tr>\n",
              "    <tr>\n",
              "      <th>Beta_TP10</th>\n",
              "      <td>0.61</td>\n",
              "      <td>0.73</td>\n",
              "      <td>0.61</td>\n",
              "      <td>0.75</td>\n",
              "      <td>0.59</td>\n",
              "      <td>0.71</td>\n",
              "      <td>0.71</td>\n",
              "      <td>1.00</td>\n",
              "      <td>0.60</td>\n",
              "      <td>0.87</td>\n",
              "      <td>-0.38</td>\n",
              "    </tr>\n",
              "    <tr>\n",
              "      <th>Gamma_TP9</th>\n",
              "      <td>0.42</td>\n",
              "      <td>0.41</td>\n",
              "      <td>0.41</td>\n",
              "      <td>0.42</td>\n",
              "      <td>0.35</td>\n",
              "      <td>0.31</td>\n",
              "      <td>0.83</td>\n",
              "      <td>0.60</td>\n",
              "      <td>1.00</td>\n",
              "      <td>0.69</td>\n",
              "      <td>-0.26</td>\n",
              "    </tr>\n",
              "    <tr>\n",
              "      <th>Gamma_TP10</th>\n",
              "      <td>0.51</td>\n",
              "      <td>0.59</td>\n",
              "      <td>0.46</td>\n",
              "      <td>0.60</td>\n",
              "      <td>0.39</td>\n",
              "      <td>0.52</td>\n",
              "      <td>0.64</td>\n",
              "      <td>0.87</td>\n",
              "      <td>0.69</td>\n",
              "      <td>1.00</td>\n",
              "      <td>-0.35</td>\n",
              "    </tr>\n",
              "    <tr>\n",
              "      <th>PSS Score</th>\n",
              "      <td>-0.26</td>\n",
              "      <td>-0.24</td>\n",
              "      <td>-0.24</td>\n",
              "      <td>-0.22</td>\n",
              "      <td>-0.22</td>\n",
              "      <td>-0.17</td>\n",
              "      <td>-0.30</td>\n",
              "      <td>-0.38</td>\n",
              "      <td>-0.26</td>\n",
              "      <td>-0.35</td>\n",
              "      <td>1.00</td>\n",
              "    </tr>\n",
              "  </tbody>\n",
              "</table>\n",
              "</div>\n",
              "      <button class=\"colab-df-convert\" onclick=\"convertToInteractive('df-380c5b72-a7a3-4644-9e57-a1b50c2af3e9')\"\n",
              "              title=\"Convert this dataframe to an interactive table.\"\n",
              "              style=\"display:none;\">\n",
              "        \n",
              "  <svg xmlns=\"http://www.w3.org/2000/svg\" height=\"24px\"viewBox=\"0 0 24 24\"\n",
              "       width=\"24px\">\n",
              "    <path d=\"M0 0h24v24H0V0z\" fill=\"none\"/>\n",
              "    <path d=\"M18.56 5.44l.94 2.06.94-2.06 2.06-.94-2.06-.94-.94-2.06-.94 2.06-2.06.94zm-11 1L8.5 8.5l.94-2.06 2.06-.94-2.06-.94L8.5 2.5l-.94 2.06-2.06.94zm10 10l.94 2.06.94-2.06 2.06-.94-2.06-.94-.94-2.06-.94 2.06-2.06.94z\"/><path d=\"M17.41 7.96l-1.37-1.37c-.4-.4-.92-.59-1.43-.59-.52 0-1.04.2-1.43.59L10.3 9.45l-7.72 7.72c-.78.78-.78 2.05 0 2.83L4 21.41c.39.39.9.59 1.41.59.51 0 1.02-.2 1.41-.59l7.78-7.78 2.81-2.81c.8-.78.8-2.07 0-2.86zM5.41 20L4 18.59l7.72-7.72 1.47 1.35L5.41 20z\"/>\n",
              "  </svg>\n",
              "      </button>\n",
              "      \n",
              "  <style>\n",
              "    .colab-df-container {\n",
              "      display:flex;\n",
              "      flex-wrap:wrap;\n",
              "      gap: 12px;\n",
              "    }\n",
              "\n",
              "    .colab-df-convert {\n",
              "      background-color: #E8F0FE;\n",
              "      border: none;\n",
              "      border-radius: 50%;\n",
              "      cursor: pointer;\n",
              "      display: none;\n",
              "      fill: #1967D2;\n",
              "      height: 32px;\n",
              "      padding: 0 0 0 0;\n",
              "      width: 32px;\n",
              "    }\n",
              "\n",
              "    .colab-df-convert:hover {\n",
              "      background-color: #E2EBFA;\n",
              "      box-shadow: 0px 1px 2px rgba(60, 64, 67, 0.3), 0px 1px 3px 1px rgba(60, 64, 67, 0.15);\n",
              "      fill: #174EA6;\n",
              "    }\n",
              "\n",
              "    [theme=dark] .colab-df-convert {\n",
              "      background-color: #3B4455;\n",
              "      fill: #D2E3FC;\n",
              "    }\n",
              "\n",
              "    [theme=dark] .colab-df-convert:hover {\n",
              "      background-color: #434B5C;\n",
              "      box-shadow: 0px 1px 3px 1px rgba(0, 0, 0, 0.15);\n",
              "      filter: drop-shadow(0px 1px 2px rgba(0, 0, 0, 0.3));\n",
              "      fill: #FFFFFF;\n",
              "    }\n",
              "  </style>\n",
              "\n",
              "      <script>\n",
              "        const buttonEl =\n",
              "          document.querySelector('#df-380c5b72-a7a3-4644-9e57-a1b50c2af3e9 button.colab-df-convert');\n",
              "        buttonEl.style.display =\n",
              "          google.colab.kernel.accessAllowed ? 'block' : 'none';\n",
              "\n",
              "        async function convertToInteractive(key) {\n",
              "          const element = document.querySelector('#df-380c5b72-a7a3-4644-9e57-a1b50c2af3e9');\n",
              "          const dataTable =\n",
              "            await google.colab.kernel.invokeFunction('convertToInteractive',\n",
              "                                                     [key], {});\n",
              "          if (!dataTable) return;\n",
              "\n",
              "          const docLinkHtml = 'Like what you see? Visit the ' +\n",
              "            '<a target=\"_blank\" href=https://colab.research.google.com/notebooks/data_table.ipynb>data table notebook</a>'\n",
              "            + ' to learn more about interactive tables.';\n",
              "          element.innerHTML = '';\n",
              "          dataTable['output_type'] = 'display_data';\n",
              "          await google.colab.output.renderOutput(dataTable, element);\n",
              "          const docLink = document.createElement('div');\n",
              "          docLink.innerHTML = docLinkHtml;\n",
              "          element.appendChild(docLink);\n",
              "        }\n",
              "      </script>\n",
              "    </div>\n",
              "  </div>\n",
              "  "
            ]
          },
          "metadata": {},
          "execution_count": 22
        }
      ],
      "source": [
        "corr_matrix = data.corr().round(2)\n",
        "corr_matrix              "
      ]
    },
    {
      "cell_type": "code",
      "execution_count": null,
      "metadata": {
        "colab": {
          "base_uri": "https://localhost:8080/",
          "height": 654
        },
        "id": "MfZO-WEN-FWk",
        "outputId": "3c17be39-a876-418d-88ab-cde5d76395f9"
      },
      "outputs": [
        {
          "output_type": "display_data",
          "data": {
            "text/plain": [
              "<Figure size 720x720 with 2 Axes>"
            ],
            "image/png": "[encoded data removed]"
          },
          "metadata": {
            "needs_background": "light"
          }
        }
      ],
      "source": [
        "mask = np.triu(np.ones_like(corr_matrix, dtype=bool))\n",
        "\n",
        "plt.figure(figsize=(10,10))\n",
        "sns.heatmap(corr_matrix, center=0, vmin=-1, vmax=1, mask=mask, annot=True, cmap='BrBG')\n",
        "plt.show()"
      ]
    },
    {
      "cell_type": "code",
      "execution_count": null,
      "metadata": {
        "colab": {
          "base_uri": "https://localhost:8080/"
        },
        "id": "lMHaVdDPJG7-",
        "outputId": "ca5f5e08-dbea-4497-dd21-ace6770b06f1"
      },
      "outputs": [
        {
          "output_type": "execute_result",
          "data": {
            "text/plain": [
              "Index(['Delta_TP9', 'Delta_AF7', 'Delta_AF8', 'Delta_TP10', 'Theta_TP9',\n",
              "       'Theta_AF7', 'Theta_AF8', 'Theta_TP10', 'Alpha_TP9', 'Alpha_AF7',\n",
              "       'Alpha_AF8', 'Alpha_TP10', 'Beta_TP9', 'Beta_AF7', 'Beta_AF8',\n",
              "       'Beta_TP10', 'Gamma_TP9', 'Gamma_AF7', 'Gamma_AF8', 'Gamma_TP10',\n",
              "       'PSS Score'],\n",
              "      dtype='object')"
            ]
          },
          "metadata": {},
          "execution_count": 24
        }
      ],
      "source": [
        "data.columns"
      ]
    },
    {
      "cell_type": "code",
      "execution_count": null,
      "metadata": {
        "id": "8pOMUAL7IxON"
      },
      "outputs": [],
      "source": [
        "features = [\"Delta_TP9\", \"Delta_TP10\", \"Theta_TP9\", \"Theta_TP10\", \"Alpha_TP9\", \"Alpha_TP10\", \"Beta_TP9\",\n",
        "            \"Beta_TP10\", \"Gamma_TP9\", \"Gamma_TP10\"]"
      ]
    },
    {
      "cell_type": "code",
      "execution_count": null,
      "metadata": {
        "colab": {
          "base_uri": "https://localhost:8080/"
        },
        "id": "N3vp3ii7-ptn",
        "outputId": "490d02dc-9efd-4270-dbc0-3eb3ff08f1fa"
      },
      "outputs": [
        {
          "output_type": "stream",
          "name": "stdout",
          "text": [
            "Number of categorical variables:  10\n",
            "********************************************************************************\n",
            "Categorical variables column name: ['Delta_AF7', 'Delta_AF8', 'Theta_AF7', 'Theta_AF8', 'Alpha_AF7', 'Alpha_AF8', 'Beta_AF7', 'Beta_AF8', 'Gamma_AF7', 'Gamma_AF8']\n"
          ]
        }
      ],
      "source": [
        "cat_features = [feature for feature in data.columns if data[feature].dtypes == 'O']\n",
        "print('Number of categorical variables: ', len(cat_features))\n",
        "print('*'*80)\n",
        "print('Categorical variables column name:',cat_features)"
      ]
    },
    {
      "cell_type": "code",
      "execution_count": null,
      "metadata": {
        "colab": {
          "base_uri": "https://localhost:8080/"
        },
        "id": "uSJdpFNt-qYN",
        "outputId": "a4389a8e-eba3-4444-eb18-1497741f15f4"
      },
      "outputs": [
        {
          "output_type": "stream",
          "name": "stdout",
          "text": [
            "Number of numerical variables:  11\n",
            "********************************************************************************\n",
            "Numerical Variables Column:  ['Delta_TP9', 'Delta_TP10', 'Theta_TP9', 'Theta_TP10', 'Alpha_TP9', 'Alpha_TP10', 'Beta_TP9', 'Beta_TP10', 'Gamma_TP9', 'Gamma_TP10', 'PSS Score']\n"
          ]
        }
      ],
      "source": [
        "numerical_features = [feature for feature in data.columns if data[feature].dtypes != 'O']\n",
        "print('Number of numerical variables: ', len(numerical_features))\n",
        "print('*'*80)\n",
        "print('Numerical Variables Column: ',numerical_features)"
      ]
    },
    {
      "cell_type": "code",
      "execution_count": null,
      "metadata": {
        "id": "nQx19-R7-vhi"
      },
      "outputs": [],
      "source": []
    },
    {
      "cell_type": "code",
      "execution_count": null,
      "metadata": {
        "id": "2gXeo3ukHw84"
      },
      "outputs": [],
      "source": []
    },
    {
      "cell_type": "markdown",
      "metadata": {
        "id": "bRrnbpUSIJhm"
      },
      "source": [
        "# Feature Selection"
      ]
    },
    {
      "cell_type": "code",
      "execution_count": null,
      "metadata": {
        "id": "kwWdRZJzKWtc"
      },
      "outputs": [],
      "source": [
        "features = [\"Delta_TP9\", \"Delta_TP10\", \"Theta_TP9\", \"Theta_TP10\", \"Alpha_TP9\", \"Alpha_TP10\", \"Beta_TP9\",\n",
        "            \"Beta_TP10\", \"Gamma_TP9\", \"Gamma_TP10\"]"
      ]
    },
    {
      "cell_type": "code",
      "execution_count": null,
      "metadata": {
        "colab": {
          "base_uri": "https://localhost:8080/"
        },
        "id": "S_iUNOwrH-Xp",
        "outputId": "8b36ae64-38e1-42ee-dc40-838ac5cc3687"
      },
      "outputs": [
        {
          "output_type": "stream",
          "name": "stdout",
          "text": [
            "(1025304, 10)\n",
            "(1025304,)\n"
          ]
        }
      ],
      "source": [
        "X = data[features]\n",
        "y = data['PSS Score']\n",
        "\n",
        "print(X.shape)\n",
        "print(y.shape)"
      ]
    },
    {
      "cell_type": "code",
      "execution_count": null,
      "metadata": {
        "id": "nTmaZRWpH-di"
      },
      "outputs": [],
      "source": [
        "#Importing our ML toolkit\n",
        "from sklearn.preprocessing import StandardScaler\n",
        "from sklearn.model_selection import train_test_split\n",
        "from sklearn.pipeline import Pipeline\n",
        "from sklearn.linear_model import LogisticRegression\n",
        "from sklearn.metrics import accuracy_score, plot_confusion_matrix,classification_report\n",
        "from sklearn.svm import SVC\n",
        "import pickle\n",
        "from sklearn.linear_model import LinearRegression\n",
        "from sklearn.linear_model import LogisticRegression\n",
        "from sklearn.preprocessing import StandardScaler\n",
        "from sklearn.neighbors import KNeighborsClassifier\n",
        "from sklearn.tree import DecisionTreeClassifier\n",
        "from sklearn.ensemble import RandomForestClassifier\n",
        "from sklearn.ensemble import AdaBoostClassifier\n",
        "from sklearn.ensemble import GradientBoostingClassifier\n",
        "from xgboost import XGBClassifier, plot_importance\n",
        "from sklearn.model_selection import GridSearchCV, cross_val_score, StratifiedKFold, learning_curve"
      ]
    },
    {
      "cell_type": "code",
      "execution_count": null,
      "metadata": {
        "colab": {
          "base_uri": "https://localhost:8080/"
        },
        "id": "OdQeAj8rH_qj",
        "outputId": "2db33d09-3f6b-4019-d227-1c2d6d8fc9db"
      },
      "outputs": [
        {
          "output_type": "execute_result",
          "data": {
            "text/plain": [
              "((717712, 10), (307592, 10))"
            ]
          },
          "metadata": {},
          "execution_count": 32
        }
      ],
      "source": [
        "X_train, X_test, y_train, y_test = train_test_split(X, y, test_size=0.3, random_state=0)\n",
        "X_train.shape, X_test.shape"
      ]
    },
    {
      "cell_type": "code",
      "execution_count": null,
      "metadata": {
        "id": "pEQO68RzLa8a"
      },
      "outputs": [],
      "source": [
        "accuracy = {}"
      ]
    },
    {
      "cell_type": "markdown",
      "source": [
        "#LogisticRegression"
      ],
      "metadata": {
        "id": "Ljk_HXxz65_o"
      }
    },
    {
      "cell_type": "code",
      "source": [],
      "metadata": {
        "id": "USSXhFjH6_MF"
      },
      "execution_count": null,
      "outputs": []
    },
    {
      "cell_type": "code",
      "execution_count": null,
      "metadata": {
        "colab": {
          "base_uri": "https://localhost:8080/"
        },
        "id": "VqfsoqR_LglR",
        "outputId": "26562199-97e3-4906-b5e5-abfdbd8b08ec"
      },
      "outputs": [
        {
          "output_type": "stream",
          "name": "stdout",
          "text": [
            "0.4214966579104788\n"
          ]
        }
      ],
      "source": [
        "model1 = LogisticRegression(max_iter = 500)\n",
        "model1.fit(X_train, y_train)\n",
        "y_pred1 = model1.predict(X_test)\n",
        "print(accuracy_score(y_test, y_pred1))\n",
        "accuracy[str(model1)] = accuracy_score(y_test, y_pred1)*100"
      ]
    },
    {
      "cell_type": "code",
      "execution_count": null,
      "metadata": {
        "colab": {
          "base_uri": "https://localhost:8080/"
        },
        "id": "YqVJg9LYLkOW",
        "outputId": "34705a2d-2131-4d7f-c05d-f1c4d10a2f58"
      },
      "outputs": [
        {
          "output_type": "stream",
          "name": "stdout",
          "text": [
            "              precision    recall  f1-score   support\n",
            "\n",
            "           9       0.53      0.07      0.13     11002\n",
            "          14       0.57      0.49      0.53     11127\n",
            "          15       0.47      0.53      0.50     21928\n",
            "          16       0.53      0.54      0.53     21959\n",
            "          17       0.59      0.37      0.46     10859\n",
            "          18       0.42      0.21      0.28     10982\n",
            "          19       0.35      0.33      0.34     10980\n",
            "          20       0.33      0.38      0.35     33054\n",
            "          21       0.18      0.20      0.19     32909\n",
            "          22       0.58      0.85      0.69     10988\n",
            "          23       0.58      0.71      0.64     32989\n",
            "          24       0.60      0.65      0.62     11048\n",
            "          26       0.16      0.04      0.06     10840\n",
            "          28       0.51      0.47      0.49     10987\n",
            "          30       0.33      0.34      0.34     22095\n",
            "          31       0.26      0.30      0.28     21893\n",
            "          34       0.47      0.51      0.49     10982\n",
            "          35       0.49      0.54      0.52     10970\n",
            "\n",
            "    accuracy                           0.42    307592\n",
            "   macro avg       0.44      0.42      0.41    307592\n",
            "weighted avg       0.42      0.42      0.41    307592\n",
            "\n"
          ]
        }
      ],
      "source": [
        "print(classification_report(y_test,y_pred1))"
      ]
    },
    {
      "cell_type": "code",
      "execution_count": null,
      "metadata": {
        "id": "WeqKD-2GMHWD"
      },
      "outputs": [],
      "source": [
        "y_pred_test = model1.predict(X_test)\n",
        "y_pred_train = model1.predict(X_train)\n",
        "\n",
        "test1 = pd.DataFrame({\n",
        "    'Actual':y_test,\n",
        "    'Y test predicted':y_pred_test\n",
        "})\n",
        "\n",
        "train = pd.DataFrame({\n",
        "    'Actual':y_train,\n",
        "    'Y train predicted':y_pred_train\n",
        "})"
      ]
    },
    {
      "cell_type": "code",
      "execution_count": null,
      "metadata": {
        "colab": {
          "base_uri": "https://localhost:8080/",
          "height": 363
        },
        "id": "ckCnyKPYRvJo",
        "outputId": "3f2d5f05-c538-460c-c0c2-678f836dd956"
      },
      "outputs": [
        {
          "output_type": "execute_result",
          "data": {
            "text/plain": [
              "        Actual  Y test predicted\n",
              "882569      30                30\n",
              "95771       19                16\n",
              "418092      21                21\n",
              "723975      31                20\n",
              "762886      14                30\n",
              "3641        16                16\n",
              "684226      20                16\n",
              "543706      18                20\n",
              "83439       19                31\n",
              "705105      31                20"
            ],
            "text/html": [
              "\n",
              "  <div id=\"df-71f4e1d8-1edc-4f85-ac4f-154f162b97c3\">\n",
              "    <div class=\"colab-df-container\">\n",
              "      <div>\n",
              "<style scoped>\n",
              "    .dataframe tbody tr th:only-of-type {\n",
              "        vertical-align: middle;\n",
              "    }\n",
              "\n",
              "    .dataframe tbody tr th {\n",
              "        vertical-align: top;\n",
              "    }\n",
              "\n",
              "    .dataframe thead th {\n",
              "        text-align: right;\n",
              "    }\n",
              "</style>\n",
              "<table border=\"1\" class=\"dataframe\">\n",
              "  <thead>\n",
              "    <tr style=\"text-align: right;\">\n",
              "      <th></th>\n",
              "      <th>Actual</th>\n",
              "      <th>Y test predicted</th>\n",
              "    </tr>\n",
              "  </thead>\n",
              "  <tbody>\n",
              "    <tr>\n",
              "      <th>882569</th>\n",
              "      <td>30</td>\n",
              "      <td>30</td>\n",
              "    </tr>\n",
              "    <tr>\n",
              "      <th>95771</th>\n",
              "      <td>19</td>\n",
              "      <td>16</td>\n",
              "    </tr>\n",
              "    <tr>\n",
              "      <th>418092</th>\n",
              "      <td>21</td>\n",
              "      <td>21</td>\n",
              "    </tr>\n",
              "    <tr>\n",
              "      <th>723975</th>\n",
              "      <td>31</td>\n",
              "      <td>20</td>\n",
              "    </tr>\n",
              "    <tr>\n",
              "      <th>762886</th>\n",
              "      <td>14</td>\n",
              "      <td>30</td>\n",
              "    </tr>\n",
              "    <tr>\n",
              "      <th>3641</th>\n",
              "      <td>16</td>\n",
              "      <td>16</td>\n",
              "    </tr>\n",
              "    <tr>\n",
              "      <th>684226</th>\n",
              "      <td>20</td>\n",
              "      <td>16</td>\n",
              "    </tr>\n",
              "    <tr>\n",
              "      <th>543706</th>\n",
              "      <td>18</td>\n",
              "      <td>20</td>\n",
              "    </tr>\n",
              "    <tr>\n",
              "      <th>83439</th>\n",
              "      <td>19</td>\n",
              "      <td>31</td>\n",
              "    </tr>\n",
              "    <tr>\n",
              "      <th>705105</th>\n",
              "      <td>31</td>\n",
              "      <td>20</td>\n",
              "    </tr>\n",
              "  </tbody>\n",
              "</table>\n",
              "</div>\n",
              "      <button class=\"colab-df-convert\" onclick=\"convertToInteractive('df-71f4e1d8-1edc-4f85-ac4f-154f162b97c3')\"\n",
              "              title=\"Convert this dataframe to an interactive table.\"\n",
              "              style=\"display:none;\">\n",
              "        \n",
              "  <svg xmlns=\"http://www.w3.org/2000/svg\" height=\"24px\"viewBox=\"0 0 24 24\"\n",
              "       width=\"24px\">\n",
              "    <path d=\"M0 0h24v24H0V0z\" fill=\"none\"/>\n",
              "    <path d=\"M18.56 5.44l.94 2.06.94-2.06 2.06-.94-2.06-.94-.94-2.06-.94 2.06-2.06.94zm-11 1L8.5 8.5l.94-2.06 2.06-.94-2.06-.94L8.5 2.5l-.94 2.06-2.06.94zm10 10l.94 2.06.94-2.06 2.06-.94-2.06-.94-.94-2.06-.94 2.06-2.06.94z\"/><path d=\"M17.41 7.96l-1.37-1.37c-.4-.4-.92-.59-1.43-.59-.52 0-1.04.2-1.43.59L10.3 9.45l-7.72 7.72c-.78.78-.78 2.05 0 2.83L4 21.41c.39.39.9.59 1.41.59.51 0 1.02-.2 1.41-.59l7.78-7.78 2.81-2.81c.8-.78.8-2.07 0-2.86zM5.41 20L4 18.59l7.72-7.72 1.47 1.35L5.41 20z\"/>\n",
              "  </svg>\n",
              "      </button>\n",
              "      \n",
              "  <style>\n",
              "    .colab-df-container {\n",
              "      display:flex;\n",
              "      flex-wrap:wrap;\n",
              "      gap: 12px;\n",
              "    }\n",
              "\n",
              "    .colab-df-convert {\n",
              "      background-color: #E8F0FE;\n",
              "      border: none;\n",
              "      border-radius: 50%;\n",
              "      cursor: pointer;\n",
              "      display: none;\n",
              "      fill: #1967D2;\n",
              "      height: 32px;\n",
              "      padding: 0 0 0 0;\n",
              "      width: 32px;\n",
              "    }\n",
              "\n",
              "    .colab-df-convert:hover {\n",
              "      background-color: #E2EBFA;\n",
              "      box-shadow: 0px 1px 2px rgba(60, 64, 67, 0.3), 0px 1px 3px 1px rgba(60, 64, 67, 0.15);\n",
              "      fill: #174EA6;\n",
              "    }\n",
              "\n",
              "    [theme=dark] .colab-df-convert {\n",
              "      background-color: #3B4455;\n",
              "      fill: #D2E3FC;\n",
              "    }\n",
              "\n",
              "    [theme=dark] .colab-df-convert:hover {\n",
              "      background-color: #434B5C;\n",
              "      box-shadow: 0px 1px 3px 1px rgba(0, 0, 0, 0.15);\n",
              "      filter: drop-shadow(0px 1px 2px rgba(0, 0, 0, 0.3));\n",
              "      fill: #FFFFFF;\n",
              "    }\n",
              "  </style>\n",
              "\n",
              "      <script>\n",
              "        const buttonEl =\n",
              "          document.querySelector('#df-71f4e1d8-1edc-4f85-ac4f-154f162b97c3 button.colab-df-convert');\n",
              "        buttonEl.style.display =\n",
              "          google.colab.kernel.accessAllowed ? 'block' : 'none';\n",
              "\n",
              "        async function convertToInteractive(key) {\n",
              "          const element = document.querySelector('#df-71f4e1d8-1edc-4f85-ac4f-154f162b97c3');\n",
              "          const dataTable =\n",
              "            await google.colab.kernel.invokeFunction('convertToInteractive',\n",
              "                                                     [key], {});\n",
              "          if (!dataTable) return;\n",
              "\n",
              "          const docLinkHtml = 'Like what you see? Visit the ' +\n",
              "            '<a target=\"_blank\" href=https://colab.research.google.com/notebooks/data_table.ipynb>data table notebook</a>'\n",
              "            + ' to learn more about interactive tables.';\n",
              "          element.innerHTML = '';\n",
              "          dataTable['output_type'] = 'display_data';\n",
              "          await google.colab.output.renderOutput(dataTable, element);\n",
              "          const docLink = document.createElement('div');\n",
              "          docLink.innerHTML = docLinkHtml;\n",
              "          element.appendChild(docLink);\n",
              "        }\n",
              "      </script>\n",
              "    </div>\n",
              "  </div>\n",
              "  "
            ]
          },
          "metadata": {},
          "execution_count": 39
        }
      ],
      "source": [
        "test1.sample(10)"
      ]
    },
    {
      "cell_type": "code",
      "execution_count": 39,
      "metadata": {
        "id": "0tUWKWHQRvUB"
      },
      "outputs": [],
      "source": []
    },
    {
      "cell_type": "markdown",
      "source": [
        "#DecisionTreeClassifier"
      ],
      "metadata": {
        "id": "oodmytcB9FzO"
      }
    },
    {
      "cell_type": "code",
      "execution_count": 39,
      "metadata": {
        "id": "YKrQyCdiRve9"
      },
      "outputs": [],
      "source": []
    },
    {
      "cell_type": "code",
      "execution_count": 40,
      "metadata": {
        "colab": {
          "base_uri": "https://localhost:8080/"
        },
        "id": "c8hwSPVaMHkt",
        "outputId": "169f99f0-0a7e-492a-a65f-2d44a79236f1"
      },
      "outputs": [
        {
          "output_type": "stream",
          "name": "stdout",
          "text": [
            "0.8581660121199511\n"
          ]
        }
      ],
      "source": [
        "model2 = DecisionTreeClassifier(max_depth=18)\n",
        "model2.fit(X_train, y_train)\n",
        "y_pred2 = model2.predict(X_test)\n",
        "print(accuracy_score(y_test, y_pred2))\n",
        "accuracy[str(model2)] = accuracy_score(y_test, y_pred2)*100"
      ]
    },
    {
      "cell_type": "code",
      "execution_count": 41,
      "metadata": {
        "colab": {
          "base_uri": "https://localhost:8080/"
        },
        "id": "ZsQSTfoRMN7Q",
        "outputId": "45435bbc-f729-48c3-f772-8a3a0441122f"
      },
      "outputs": [
        {
          "output_type": "stream",
          "name": "stdout",
          "text": [
            "              precision    recall  f1-score   support\n",
            "\n",
            "           9       0.94      0.74      0.83     11002\n",
            "          14       0.80      0.88      0.84     11127\n",
            "          15       0.95      0.91      0.93     21928\n",
            "          16       0.96      0.86      0.91     21959\n",
            "          17       0.70      0.75      0.72     10859\n",
            "          18       0.66      0.66      0.66     10982\n",
            "          19       0.84      0.80      0.82     10980\n",
            "          20       0.90      0.88      0.89     33054\n",
            "          21       0.71      0.85      0.77     32909\n",
            "          22       1.00      1.00      1.00     10988\n",
            "          23       0.89      0.89      0.89     32989\n",
            "          24       0.94      0.83      0.88     11048\n",
            "          26       0.81      0.65      0.72     10840\n",
            "          28       0.99      0.97      0.98     10987\n",
            "          30       0.95      0.89      0.92     22095\n",
            "          31       0.71      0.87      0.78     21893\n",
            "          34       0.99      0.89      0.93     10982\n",
            "          35       0.95      0.95      0.95     10970\n",
            "\n",
            "    accuracy                           0.86    307592\n",
            "   macro avg       0.87      0.85      0.86    307592\n",
            "weighted avg       0.87      0.86      0.86    307592\n",
            "\n"
          ]
        }
      ],
      "source": [
        "print(classification_report(y_test,y_pred2))"
      ]
    },
    {
      "cell_type": "code",
      "execution_count": 42,
      "metadata": {
        "id": "ORh0ln8DRp9O"
      },
      "outputs": [],
      "source": [
        "y_pred_test = model2.predict(X_test)\n",
        "y_pred_train = model2.predict(X_train)\n",
        "\n",
        "test2 = pd.DataFrame({\n",
        "    'Actual':y_test,\n",
        "    'Y test predicted':y_pred_test\n",
        "})\n",
        "\n",
        "train = pd.DataFrame({\n",
        "    'Actual':y_train,\n",
        "    'Y train predicted':y_pred_train\n",
        "})"
      ]
    },
    {
      "cell_type": "code",
      "execution_count": 43,
      "metadata": {
        "colab": {
          "base_uri": "https://localhost:8080/",
          "height": 363
        },
        "id": "kTf8w6c9RqAh",
        "outputId": "fdb160fa-02b4-467f-cd34-507cf54c899e"
      },
      "outputs": [
        {
          "output_type": "execute_result",
          "data": {
            "text/plain": [
              "        Actual  Y test predicted\n",
              "72506       21                21\n",
              "551694      31                31\n",
              "359656      23                23\n",
              "501156      28                28\n",
              "537680      18                18\n",
              "927485      30                30\n",
              "705771      31                21\n",
              "27385       16                16\n",
              "208574      23                17\n",
              "158808      16                16"
            ],
            "text/html": [
              "\n",
              "  <div id=\"df-1de53cec-f943-4281-a543-789192d13611\">\n",
              "    <div class=\"colab-df-container\">\n",
              "      <div>\n",
              "<style scoped>\n",
              "    .dataframe tbody tr th:only-of-type {\n",
              "        vertical-align: middle;\n",
              "    }\n",
              "\n",
              "    .dataframe tbody tr th {\n",
              "        vertical-align: top;\n",
              "    }\n",
              "\n",
              "    .dataframe thead th {\n",
              "        text-align: right;\n",
              "    }\n",
              "</style>\n",
              "<table border=\"1\" class=\"dataframe\">\n",
              "  <thead>\n",
              "    <tr style=\"text-align: right;\">\n",
              "      <th></th>\n",
              "      <th>Actual</th>\n",
              "      <th>Y test predicted</th>\n",
              "    </tr>\n",
              "  </thead>\n",
              "  <tbody>\n",
              "    <tr>\n",
              "      <th>72506</th>\n",
              "      <td>21</td>\n",
              "      <td>21</td>\n",
              "    </tr>\n",
              "    <tr>\n",
              "      <th>551694</th>\n",
              "      <td>31</td>\n",
              "      <td>31</td>\n",
              "    </tr>\n",
              "    <tr>\n",
              "      <th>359656</th>\n",
              "      <td>23</td>\n",
              "      <td>23</td>\n",
              "    </tr>\n",
              "    <tr>\n",
              "      <th>501156</th>\n",
              "      <td>28</td>\n",
              "      <td>28</td>\n",
              "    </tr>\n",
              "    <tr>\n",
              "      <th>537680</th>\n",
              "      <td>18</td>\n",
              "      <td>18</td>\n",
              "    </tr>\n",
              "    <tr>\n",
              "      <th>927485</th>\n",
              "      <td>30</td>\n",
              "      <td>30</td>\n",
              "    </tr>\n",
              "    <tr>\n",
              "      <th>705771</th>\n",
              "      <td>31</td>\n",
              "      <td>21</td>\n",
              "    </tr>\n",
              "    <tr>\n",
              "      <th>27385</th>\n",
              "      <td>16</td>\n",
              "      <td>16</td>\n",
              "    </tr>\n",
              "    <tr>\n",
              "      <th>208574</th>\n",
              "      <td>23</td>\n",
              "      <td>17</td>\n",
              "    </tr>\n",
              "    <tr>\n",
              "      <th>158808</th>\n",
              "      <td>16</td>\n",
              "      <td>16</td>\n",
              "    </tr>\n",
              "  </tbody>\n",
              "</table>\n",
              "</div>\n",
              "      <button class=\"colab-df-convert\" onclick=\"convertToInteractive('df-1de53cec-f943-4281-a543-789192d13611')\"\n",
              "              title=\"Convert this dataframe to an interactive table.\"\n",
              "              style=\"display:none;\">\n",
              "        \n",
              "  <svg xmlns=\"http://www.w3.org/2000/svg\" height=\"24px\"viewBox=\"0 0 24 24\"\n",
              "       width=\"24px\">\n",
              "    <path d=\"M0 0h24v24H0V0z\" fill=\"none\"/>\n",
              "    <path d=\"M18.56 5.44l.94 2.06.94-2.06 2.06-.94-2.06-.94-.94-2.06-.94 2.06-2.06.94zm-11 1L8.5 8.5l.94-2.06 2.06-.94-2.06-.94L8.5 2.5l-.94 2.06-2.06.94zm10 10l.94 2.06.94-2.06 2.06-.94-2.06-.94-.94-2.06-.94 2.06-2.06.94z\"/><path d=\"M17.41 7.96l-1.37-1.37c-.4-.4-.92-.59-1.43-.59-.52 0-1.04.2-1.43.59L10.3 9.45l-7.72 7.72c-.78.78-.78 2.05 0 2.83L4 21.41c.39.39.9.59 1.41.59.51 0 1.02-.2 1.41-.59l7.78-7.78 2.81-2.81c.8-.78.8-2.07 0-2.86zM5.41 20L4 18.59l7.72-7.72 1.47 1.35L5.41 20z\"/>\n",
              "  </svg>\n",
              "      </button>\n",
              "      \n",
              "  <style>\n",
              "    .colab-df-container {\n",
              "      display:flex;\n",
              "      flex-wrap:wrap;\n",
              "      gap: 12px;\n",
              "    }\n",
              "\n",
              "    .colab-df-convert {\n",
              "      background-color: #E8F0FE;\n",
              "      border: none;\n",
              "      border-radius: 50%;\n",
              "      cursor: pointer;\n",
              "      display: none;\n",
              "      fill: #1967D2;\n",
              "      height: 32px;\n",
              "      padding: 0 0 0 0;\n",
              "      width: 32px;\n",
              "    }\n",
              "\n",
              "    .colab-df-convert:hover {\n",
              "      background-color: #E2EBFA;\n",
              "      box-shadow: 0px 1px 2px rgba(60, 64, 67, 0.3), 0px 1px 3px 1px rgba(60, 64, 67, 0.15);\n",
              "      fill: #174EA6;\n",
              "    }\n",
              "\n",
              "    [theme=dark] .colab-df-convert {\n",
              "      background-color: #3B4455;\n",
              "      fill: #D2E3FC;\n",
              "    }\n",
              "\n",
              "    [theme=dark] .colab-df-convert:hover {\n",
              "      background-color: #434B5C;\n",
              "      box-shadow: 0px 1px 3px 1px rgba(0, 0, 0, 0.15);\n",
              "      filter: drop-shadow(0px 1px 2px rgba(0, 0, 0, 0.3));\n",
              "      fill: #FFFFFF;\n",
              "    }\n",
              "  </style>\n",
              "\n",
              "      <script>\n",
              "        const buttonEl =\n",
              "          document.querySelector('#df-1de53cec-f943-4281-a543-789192d13611 button.colab-df-convert');\n",
              "        buttonEl.style.display =\n",
              "          google.colab.kernel.accessAllowed ? 'block' : 'none';\n",
              "\n",
              "        async function convertToInteractive(key) {\n",
              "          const element = document.querySelector('#df-1de53cec-f943-4281-a543-789192d13611');\n",
              "          const dataTable =\n",
              "            await google.colab.kernel.invokeFunction('convertToInteractive',\n",
              "                                                     [key], {});\n",
              "          if (!dataTable) return;\n",
              "\n",
              "          const docLinkHtml = 'Like what you see? Visit the ' +\n",
              "            '<a target=\"_blank\" href=https://colab.research.google.com/notebooks/data_table.ipynb>data table notebook</a>'\n",
              "            + ' to learn more about interactive tables.';\n",
              "          element.innerHTML = '';\n",
              "          dataTable['output_type'] = 'display_data';\n",
              "          await google.colab.output.renderOutput(dataTable, element);\n",
              "          const docLink = document.createElement('div');\n",
              "          docLink.innerHTML = docLinkHtml;\n",
              "          element.appendChild(docLink);\n",
              "        }\n",
              "      </script>\n",
              "    </div>\n",
              "  </div>\n",
              "  "
            ]
          },
          "metadata": {},
          "execution_count": 43
        }
      ],
      "source": [
        "test2.sample(10)"
      ]
    },
    {
      "cell_type": "code",
      "execution_count": null,
      "metadata": {
        "id": "ZfNtpnqfRqKl"
      },
      "outputs": [],
      "source": []
    },
    {
      "cell_type": "markdown",
      "source": [
        "#RandomForestClassifier"
      ],
      "metadata": {
        "id": "vTKlBMkb_CeL"
      }
    },
    {
      "cell_type": "code",
      "execution_count": 43,
      "metadata": {
        "id": "WYSqPh07MSnW"
      },
      "outputs": [],
      "source": []
    },
    {
      "cell_type": "code",
      "execution_count": 44,
      "metadata": {
        "colab": {
          "base_uri": "https://localhost:8080/"
        },
        "id": "Yxpgc4T_MS-w",
        "outputId": "5e5a0a19-13ea-4805-95cd-2526df7e0f97"
      },
      "outputs": [
        {
          "output_type": "stream",
          "name": "stdout",
          "text": [
            "0.9879970870503785\n"
          ]
        }
      ],
      "source": [
        "model3 = RandomForestClassifier(max_depth=18)\n",
        "model3.fit(X_train, y_train)\n",
        "y_pred3 = model3.predict(X_test)\n",
        "print(accuracy_score(y_test, y_pred3))\n",
        "accuracy[str(model3)] = accuracy_score(y_test, y_pred3)*100"
      ]
    },
    {
      "cell_type": "code",
      "execution_count": 45,
      "metadata": {
        "colab": {
          "base_uri": "https://localhost:8080/"
        },
        "id": "wMaQ-Cd_MeLA",
        "outputId": "e2555991-30ff-4ea9-c863-d2afd838df50"
      },
      "outputs": [
        {
          "output_type": "stream",
          "name": "stdout",
          "text": [
            "              precision    recall  f1-score   support\n",
            "\n",
            "           9       1.00      0.97      0.98     11002\n",
            "          14       0.96      1.00      0.98     11127\n",
            "          15       1.00      0.98      0.99     21928\n",
            "          16       1.00      0.99      0.99     21959\n",
            "          17       0.93      0.99      0.96     10859\n",
            "          18       0.92      0.99      0.96     10982\n",
            "          19       1.00      0.97      0.98     10980\n",
            "          20       0.99      0.99      0.99     33054\n",
            "          21       0.99      0.98      0.99     32909\n",
            "          22       1.00      1.00      1.00     10988\n",
            "          23       1.00      0.99      0.99     32989\n",
            "          24       1.00      0.98      0.99     11048\n",
            "          26       0.98      0.98      0.98     10840\n",
            "          28       1.00      1.00      1.00     10987\n",
            "          30       1.00      0.99      0.99     22095\n",
            "          31       0.97      0.99      0.98     21893\n",
            "          34       1.00      0.99      1.00     10982\n",
            "          35       1.00      1.00      1.00     10970\n",
            "\n",
            "    accuracy                           0.99    307592\n",
            "   macro avg       0.99      0.99      0.99    307592\n",
            "weighted avg       0.99      0.99      0.99    307592\n",
            "\n"
          ]
        }
      ],
      "source": [
        "print(classification_report(y_test,y_pred3))"
      ]
    },
    {
      "cell_type": "code",
      "execution_count": 46,
      "metadata": {
        "id": "U31xswZxRgu0"
      },
      "outputs": [],
      "source": [
        "y_pred_test = model3.predict(X_test)\n",
        "y_pred_train = model3.predict(X_train)\n",
        "\n",
        "test3 = pd.DataFrame({\n",
        "    'Actual':y_test,\n",
        "    'Y test predicted':y_pred_test\n",
        "})\n",
        "\n",
        "train = pd.DataFrame({\n",
        "    'Actual':y_train,\n",
        "    'Y train predicted':y_pred_train\n",
        "})"
      ]
    },
    {
      "cell_type": "code",
      "execution_count": 47,
      "metadata": {
        "colab": {
          "base_uri": "https://localhost:8080/",
          "height": 363
        },
        "id": "3LY8IrFsRg1V",
        "outputId": "cfd3a4fb-9a1c-4793-abb6-2394b05b2887"
      },
      "outputs": [
        {
          "output_type": "execute_result",
          "data": {
            "text/plain": [
              "         Actual  Y test predicted\n",
              "1022709      26                26\n",
              "20917        16                16\n",
              "626132       24                24\n",
              "333287       23                23\n",
              "146868       16                16\n",
              "60706        21                21\n",
              "178601       16                16\n",
              "277510       23                23\n",
              "65210        21                21\n",
              "245319       15                15"
            ],
            "text/html": [
              "\n",
              "  <div id=\"df-363612a6-a8a5-4b81-8765-43c0050c56be\">\n",
              "    <div class=\"colab-df-container\">\n",
              "      <div>\n",
              "<style scoped>\n",
              "    .dataframe tbody tr th:only-of-type {\n",
              "        vertical-align: middle;\n",
              "    }\n",
              "\n",
              "    .dataframe tbody tr th {\n",
              "        vertical-align: top;\n",
              "    }\n",
              "\n",
              "    .dataframe thead th {\n",
              "        text-align: right;\n",
              "    }\n",
              "</style>\n",
              "<table border=\"1\" class=\"dataframe\">\n",
              "  <thead>\n",
              "    <tr style=\"text-align: right;\">\n",
              "      <th></th>\n",
              "      <th>Actual</th>\n",
              "      <th>Y test predicted</th>\n",
              "    </tr>\n",
              "  </thead>\n",
              "  <tbody>\n",
              "    <tr>\n",
              "      <th>1022709</th>\n",
              "      <td>26</td>\n",
              "      <td>26</td>\n",
              "    </tr>\n",
              "    <tr>\n",
              "      <th>20917</th>\n",
              "      <td>16</td>\n",
              "      <td>16</td>\n",
              "    </tr>\n",
              "    <tr>\n",
              "      <th>626132</th>\n",
              "      <td>24</td>\n",
              "      <td>24</td>\n",
              "    </tr>\n",
              "    <tr>\n",
              "      <th>333287</th>\n",
              "      <td>23</td>\n",
              "      <td>23</td>\n",
              "    </tr>\n",
              "    <tr>\n",
              "      <th>146868</th>\n",
              "      <td>16</td>\n",
              "      <td>16</td>\n",
              "    </tr>\n",
              "    <tr>\n",
              "      <th>60706</th>\n",
              "      <td>21</td>\n",
              "      <td>21</td>\n",
              "    </tr>\n",
              "    <tr>\n",
              "      <th>178601</th>\n",
              "      <td>16</td>\n",
              "      <td>16</td>\n",
              "    </tr>\n",
              "    <tr>\n",
              "      <th>277510</th>\n",
              "      <td>23</td>\n",
              "      <td>23</td>\n",
              "    </tr>\n",
              "    <tr>\n",
              "      <th>65210</th>\n",
              "      <td>21</td>\n",
              "      <td>21</td>\n",
              "    </tr>\n",
              "    <tr>\n",
              "      <th>245319</th>\n",
              "      <td>15</td>\n",
              "      <td>15</td>\n",
              "    </tr>\n",
              "  </tbody>\n",
              "</table>\n",
              "</div>\n",
              "      <button class=\"colab-df-convert\" onclick=\"convertToInteractive('df-363612a6-a8a5-4b81-8765-43c0050c56be')\"\n",
              "              title=\"Convert this dataframe to an interactive table.\"\n",
              "              style=\"display:none;\">\n",
              "        \n",
              "  <svg xmlns=\"http://www.w3.org/2000/svg\" height=\"24px\"viewBox=\"0 0 24 24\"\n",
              "       width=\"24px\">\n",
              "    <path d=\"M0 0h24v24H0V0z\" fill=\"none\"/>\n",
              "    <path d=\"M18.56 5.44l.94 2.06.94-2.06 2.06-.94-2.06-.94-.94-2.06-.94 2.06-2.06.94zm-11 1L8.5 8.5l.94-2.06 2.06-.94-2.06-.94L8.5 2.5l-.94 2.06-2.06.94zm10 10l.94 2.06.94-2.06 2.06-.94-2.06-.94-.94-2.06-.94 2.06-2.06.94z\"/><path d=\"M17.41 7.96l-1.37-1.37c-.4-.4-.92-.59-1.43-.59-.52 0-1.04.2-1.43.59L10.3 9.45l-7.72 7.72c-.78.78-.78 2.05 0 2.83L4 21.41c.39.39.9.59 1.41.59.51 0 1.02-.2 1.41-.59l7.78-7.78 2.81-2.81c.8-.78.8-2.07 0-2.86zM5.41 20L4 18.59l7.72-7.72 1.47 1.35L5.41 20z\"/>\n",
              "  </svg>\n",
              "      </button>\n",
              "      \n",
              "  <style>\n",
              "    .colab-df-container {\n",
              "      display:flex;\n",
              "      flex-wrap:wrap;\n",
              "      gap: 12px;\n",
              "    }\n",
              "\n",
              "    .colab-df-convert {\n",
              "      background-color: #E8F0FE;\n",
              "      border: none;\n",
              "      border-radius: 50%;\n",
              "      cursor: pointer;\n",
              "      display: none;\n",
              "      fill: #1967D2;\n",
              "      height: 32px;\n",
              "      padding: 0 0 0 0;\n",
              "      width: 32px;\n",
              "    }\n",
              "\n",
              "    .colab-df-convert:hover {\n",
              "      background-color: #E2EBFA;\n",
              "      box-shadow: 0px 1px 2px rgba(60, 64, 67, 0.3), 0px 1px 3px 1px rgba(60, 64, 67, 0.15);\n",
              "      fill: #174EA6;\n",
              "    }\n",
              "\n",
              "    [theme=dark] .colab-df-convert {\n",
              "      background-color: #3B4455;\n",
              "      fill: #D2E3FC;\n",
              "    }\n",
              "\n",
              "    [theme=dark] .colab-df-convert:hover {\n",
              "      background-color: #434B5C;\n",
              "      box-shadow: 0px 1px 3px 1px rgba(0, 0, 0, 0.15);\n",
              "      filter: drop-shadow(0px 1px 2px rgba(0, 0, 0, 0.3));\n",
              "      fill: #FFFFFF;\n",
              "    }\n",
              "  </style>\n",
              "\n",
              "      <script>\n",
              "        const buttonEl =\n",
              "          document.querySelector('#df-363612a6-a8a5-4b81-8765-43c0050c56be button.colab-df-convert');\n",
              "        buttonEl.style.display =\n",
              "          google.colab.kernel.accessAllowed ? 'block' : 'none';\n",
              "\n",
              "        async function convertToInteractive(key) {\n",
              "          const element = document.querySelector('#df-363612a6-a8a5-4b81-8765-43c0050c56be');\n",
              "          const dataTable =\n",
              "            await google.colab.kernel.invokeFunction('convertToInteractive',\n",
              "                                                     [key], {});\n",
              "          if (!dataTable) return;\n",
              "\n",
              "          const docLinkHtml = 'Like what you see? Visit the ' +\n",
              "            '<a target=\"_blank\" href=https://colab.research.google.com/notebooks/data_table.ipynb>data table notebook</a>'\n",
              "            + ' to learn more about interactive tables.';\n",
              "          element.innerHTML = '';\n",
              "          dataTable['output_type'] = 'display_data';\n",
              "          await google.colab.output.renderOutput(dataTable, element);\n",
              "          const docLink = document.createElement('div');\n",
              "          docLink.innerHTML = docLinkHtml;\n",
              "          element.appendChild(docLink);\n",
              "        }\n",
              "      </script>\n",
              "    </div>\n",
              "  </div>\n",
              "  "
            ]
          },
          "metadata": {},
          "execution_count": 47
        }
      ],
      "source": [
        "test3.sample(10)"
      ]
    },
    {
      "cell_type": "code",
      "execution_count": null,
      "metadata": {
        "id": "20R-_7LiRhCw"
      },
      "outputs": [],
      "source": []
    },
    {
      "cell_type": "markdown",
      "source": [
        "#LinearRegression"
      ],
      "metadata": {
        "id": "Ls_FTJoV_5q2"
      }
    },
    {
      "cell_type": "code",
      "source": [
        "from sklearn.linear_model import LinearRegression\n",
        "from sklearn.linear_model import LogisticRegression\n",
        "from sklearn.preprocessing import StandardScaler"
      ],
      "metadata": {
        "id": "8MfVK9C-Ze2J"
      },
      "execution_count": 48,
      "outputs": []
    },
    {
      "cell_type": "code",
      "source": [
        "model5 = LinearRegression()\n",
        "model5.fit(X_train, y_train)\n",
        "y_pred5 = model2.predict(X_test)\n",
        "print(accuracy_score(y_test, y_pred2))\n",
        "accuracy[str(model5)] = accuracy_score(y_test, y_pred2)*100"
      ],
      "metadata": {
        "colab": {
          "base_uri": "https://localhost:8080/"
        },
        "id": "N_GtevkDZe5D",
        "outputId": "660a58b8-d683-45e1-dd44-6a3eed86bbc7"
      },
      "execution_count": 50,
      "outputs": [
        {
          "output_type": "stream",
          "name": "stdout",
          "text": [
            "0.8581660121199511\n"
          ]
        }
      ]
    },
    {
      "cell_type": "code",
      "source": [
        "print(classification_report(y_test,y_pred5))"
      ],
      "metadata": {
        "colab": {
          "base_uri": "https://localhost:8080/"
        },
        "id": "mbmUEXiaZe8n",
        "outputId": "2deed3ab-6492-4ce1-fb65-06b47092b2b1"
      },
      "execution_count": 51,
      "outputs": [
        {
          "output_type": "stream",
          "name": "stdout",
          "text": [
            "              precision    recall  f1-score   support\n",
            "\n",
            "           9       0.94      0.74      0.83     11002\n",
            "          14       0.80      0.88      0.84     11127\n",
            "          15       0.95      0.91      0.93     21928\n",
            "          16       0.96      0.86      0.91     21959\n",
            "          17       0.70      0.75      0.72     10859\n",
            "          18       0.66      0.66      0.66     10982\n",
            "          19       0.84      0.80      0.82     10980\n",
            "          20       0.90      0.88      0.89     33054\n",
            "          21       0.71      0.85      0.77     32909\n",
            "          22       1.00      1.00      1.00     10988\n",
            "          23       0.89      0.89      0.89     32989\n",
            "          24       0.94      0.83      0.88     11048\n",
            "          26       0.81      0.65      0.72     10840\n",
            "          28       0.99      0.97      0.98     10987\n",
            "          30       0.95      0.89      0.92     22095\n",
            "          31       0.71      0.87      0.78     21893\n",
            "          34       0.99      0.89      0.93     10982\n",
            "          35       0.95      0.95      0.95     10970\n",
            "\n",
            "    accuracy                           0.86    307592\n",
            "   macro avg       0.87      0.85      0.86    307592\n",
            "weighted avg       0.87      0.86      0.86    307592\n",
            "\n"
          ]
        }
      ]
    },
    {
      "cell_type": "code",
      "source": [
        "y_pred_test = model5.predict(X_test)\n",
        "y_pred_train = model5.predict(X_train)\n",
        "\n",
        "test5 = pd.DataFrame({\n",
        "    'Actual':y_test,\n",
        "    'Y test predicted':y_pred_test\n",
        "})\n",
        "\n",
        "train = pd.DataFrame({\n",
        "    'Actual':y_train,\n",
        "    'Y train predicted':y_pred_train\n",
        "})"
      ],
      "metadata": {
        "id": "M4pyTg9oZe_n"
      },
      "execution_count": 52,
      "outputs": []
    },
    {
      "cell_type": "code",
      "source": [
        "test5.sample(10)"
      ],
      "metadata": {
        "colab": {
          "base_uri": "https://localhost:8080/",
          "height": 363
        },
        "id": "vh5YlV3UZfED",
        "outputId": "29043bcf-eb67-43d1-9169-6c1f9483ffb2"
      },
      "execution_count": 53,
      "outputs": [
        {
          "output_type": "execute_result",
          "data": {
            "text/plain": [
              "        Actual  Y test predicted\n",
              "97109       19         23.786937\n",
              "515394      18         25.625001\n",
              "339384      23         22.074502\n",
              "884974      30         24.155073\n",
              "179839      16         22.480202\n",
              "405881      21         19.507237\n",
              "98892       19         24.279718\n",
              "736498      14         21.056462\n",
              "633260      24         27.298165\n",
              "224325      15         22.990449"
            ],
            "text/html": [
              "\n",
              "  <div id=\"df-a141dd1a-74a0-4d19-ade8-93261b64205c\">\n",
              "    <div class=\"colab-df-container\">\n",
              "      <div>\n",
              "<style scoped>\n",
              "    .dataframe tbody tr th:only-of-type {\n",
              "        vertical-align: middle;\n",
              "    }\n",
              "\n",
              "    .dataframe tbody tr th {\n",
              "        vertical-align: top;\n",
              "    }\n",
              "\n",
              "    .dataframe thead th {\n",
              "        text-align: right;\n",
              "    }\n",
              "</style>\n",
              "<table border=\"1\" class=\"dataframe\">\n",
              "  <thead>\n",
              "    <tr style=\"text-align: right;\">\n",
              "      <th></th>\n",
              "      <th>Actual</th>\n",
              "      <th>Y test predicted</th>\n",
              "    </tr>\n",
              "  </thead>\n",
              "  <tbody>\n",
              "    <tr>\n",
              "      <th>97109</th>\n",
              "      <td>19</td>\n",
              "      <td>23.786937</td>\n",
              "    </tr>\n",
              "    <tr>\n",
              "      <th>515394</th>\n",
              "      <td>18</td>\n",
              "      <td>25.625001</td>\n",
              "    </tr>\n",
              "    <tr>\n",
              "      <th>339384</th>\n",
              "      <td>23</td>\n",
              "      <td>22.074502</td>\n",
              "    </tr>\n",
              "    <tr>\n",
              "      <th>884974</th>\n",
              "      <td>30</td>\n",
              "      <td>24.155073</td>\n",
              "    </tr>\n",
              "    <tr>\n",
              "      <th>179839</th>\n",
              "      <td>16</td>\n",
              "      <td>22.480202</td>\n",
              "    </tr>\n",
              "    <tr>\n",
              "      <th>405881</th>\n",
              "      <td>21</td>\n",
              "      <td>19.507237</td>\n",
              "    </tr>\n",
              "    <tr>\n",
              "      <th>98892</th>\n",
              "      <td>19</td>\n",
              "      <td>24.279718</td>\n",
              "    </tr>\n",
              "    <tr>\n",
              "      <th>736498</th>\n",
              "      <td>14</td>\n",
              "      <td>21.056462</td>\n",
              "    </tr>\n",
              "    <tr>\n",
              "      <th>633260</th>\n",
              "      <td>24</td>\n",
              "      <td>27.298165</td>\n",
              "    </tr>\n",
              "    <tr>\n",
              "      <th>224325</th>\n",
              "      <td>15</td>\n",
              "      <td>22.990449</td>\n",
              "    </tr>\n",
              "  </tbody>\n",
              "</table>\n",
              "</div>\n",
              "      <button class=\"colab-df-convert\" onclick=\"convertToInteractive('df-a141dd1a-74a0-4d19-ade8-93261b64205c')\"\n",
              "              title=\"Convert this dataframe to an interactive table.\"\n",
              "              style=\"display:none;\">\n",
              "        \n",
              "  <svg xmlns=\"http://www.w3.org/2000/svg\" height=\"24px\"viewBox=\"0 0 24 24\"\n",
              "       width=\"24px\">\n",
              "    <path d=\"M0 0h24v24H0V0z\" fill=\"none\"/>\n",
              "    <path d=\"M18.56 5.44l.94 2.06.94-2.06 2.06-.94-2.06-.94-.94-2.06-.94 2.06-2.06.94zm-11 1L8.5 8.5l.94-2.06 2.06-.94-2.06-.94L8.5 2.5l-.94 2.06-2.06.94zm10 10l.94 2.06.94-2.06 2.06-.94-2.06-.94-.94-2.06-.94 2.06-2.06.94z\"/><path d=\"M17.41 7.96l-1.37-1.37c-.4-.4-.92-.59-1.43-.59-.52 0-1.04.2-1.43.59L10.3 9.45l-7.72 7.72c-.78.78-.78 2.05 0 2.83L4 21.41c.39.39.9.59 1.41.59.51 0 1.02-.2 1.41-.59l7.78-7.78 2.81-2.81c.8-.78.8-2.07 0-2.86zM5.41 20L4 18.59l7.72-7.72 1.47 1.35L5.41 20z\"/>\n",
              "  </svg>\n",
              "      </button>\n",
              "      \n",
              "  <style>\n",
              "    .colab-df-container {\n",
              "      display:flex;\n",
              "      flex-wrap:wrap;\n",
              "      gap: 12px;\n",
              "    }\n",
              "\n",
              "    .colab-df-convert {\n",
              "      background-color: #E8F0FE;\n",
              "      border: none;\n",
              "      border-radius: 50%;\n",
              "      cursor: pointer;\n",
              "      display: none;\n",
              "      fill: #1967D2;\n",
              "      height: 32px;\n",
              "      padding: 0 0 0 0;\n",
              "      width: 32px;\n",
              "    }\n",
              "\n",
              "    .colab-df-convert:hover {\n",
              "      background-color: #E2EBFA;\n",
              "      box-shadow: 0px 1px 2px rgba(60, 64, 67, 0.3), 0px 1px 3px 1px rgba(60, 64, 67, 0.15);\n",
              "      fill: #174EA6;\n",
              "    }\n",
              "\n",
              "    [theme=dark] .colab-df-convert {\n",
              "      background-color: #3B4455;\n",
              "      fill: #D2E3FC;\n",
              "    }\n",
              "\n",
              "    [theme=dark] .colab-df-convert:hover {\n",
              "      background-color: #434B5C;\n",
              "      box-shadow: 0px 1px 3px 1px rgba(0, 0, 0, 0.15);\n",
              "      filter: drop-shadow(0px 1px 2px rgba(0, 0, 0, 0.3));\n",
              "      fill: #FFFFFF;\n",
              "    }\n",
              "  </style>\n",
              "\n",
              "      <script>\n",
              "        const buttonEl =\n",
              "          document.querySelector('#df-a141dd1a-74a0-4d19-ade8-93261b64205c button.colab-df-convert');\n",
              "        buttonEl.style.display =\n",
              "          google.colab.kernel.accessAllowed ? 'block' : 'none';\n",
              "\n",
              "        async function convertToInteractive(key) {\n",
              "          const element = document.querySelector('#df-a141dd1a-74a0-4d19-ade8-93261b64205c');\n",
              "          const dataTable =\n",
              "            await google.colab.kernel.invokeFunction('convertToInteractive',\n",
              "                                                     [key], {});\n",
              "          if (!dataTable) return;\n",
              "\n",
              "          const docLinkHtml = 'Like what you see? Visit the ' +\n",
              "            '<a target=\"_blank\" href=https://colab.research.google.com/notebooks/data_table.ipynb>data table notebook</a>'\n",
              "            + ' to learn more about interactive tables.';\n",
              "          element.innerHTML = '';\n",
              "          dataTable['output_type'] = 'display_data';\n",
              "          await google.colab.output.renderOutput(dataTable, element);\n",
              "          const docLink = document.createElement('div');\n",
              "          docLink.innerHTML = docLinkHtml;\n",
              "          element.appendChild(docLink);\n",
              "        }\n",
              "      </script>\n",
              "    </div>\n",
              "  </div>\n",
              "  "
            ]
          },
          "metadata": {},
          "execution_count": 53
        }
      ]
    },
    {
      "cell_type": "code",
      "source": [],
      "metadata": {
        "id": "dJJHTVn5bOjB"
      },
      "execution_count": 53,
      "outputs": []
    },
    {
      "cell_type": "markdown",
      "source": [
        "#KNeighborsClassifier"
      ],
      "metadata": {
        "id": "zLJUy3SzAbZq"
      }
    },
    {
      "cell_type": "code",
      "source": [],
      "metadata": {
        "id": "I1jPg_t1bOM3"
      },
      "execution_count": null,
      "outputs": []
    },
    {
      "cell_type": "code",
      "source": [
        "from sklearn.neighbors import KNeighborsClassifier\n",
        "model4 = KNeighborsClassifier(10)\n",
        "model4.fit(X_train,y_train)\n",
        "y_pred4 = model4.predict(X_test)\n",
        "print(accuracy_score(y_test, y_pred4))\n",
        "accuracy[str(model4)] = accuracy_score(y_test, y_pred4)*100"
      ],
      "metadata": {
        "id": "VBYwf1iVzoaW",
        "colab": {
          "base_uri": "https://localhost:8080/"
        },
        "outputId": "3a2a0944-77ed-4de3-ef4f-514526c8d179"
      },
      "execution_count": 54,
      "outputs": [
        {
          "output_type": "stream",
          "name": "stdout",
          "text": [
            "0.9992587583552238\n"
          ]
        }
      ]
    },
    {
      "cell_type": "code",
      "source": [
        "print(classification_report(y_test,y_pred4))"
      ],
      "metadata": {
        "id": "TxCkxH6qzoWT",
        "colab": {
          "base_uri": "https://localhost:8080/"
        },
        "outputId": "f46366c5-6ed2-46ee-df66-6fddc9cb2f45"
      },
      "execution_count": 55,
      "outputs": [
        {
          "output_type": "stream",
          "name": "stdout",
          "text": [
            "              precision    recall  f1-score   support\n",
            "\n",
            "           9       1.00      1.00      1.00     11002\n",
            "          14       1.00      1.00      1.00     11127\n",
            "          15       1.00      1.00      1.00     21928\n",
            "          16       1.00      1.00      1.00     21959\n",
            "          17       1.00      1.00      1.00     10859\n",
            "          18       1.00      1.00      1.00     10982\n",
            "          19       1.00      1.00      1.00     10980\n",
            "          20       1.00      1.00      1.00     33054\n",
            "          21       1.00      1.00      1.00     32909\n",
            "          22       1.00      1.00      1.00     10988\n",
            "          23       1.00      1.00      1.00     32989\n",
            "          24       1.00      1.00      1.00     11048\n",
            "          26       1.00      1.00      1.00     10840\n",
            "          28       1.00      1.00      1.00     10987\n",
            "          30       1.00      1.00      1.00     22095\n",
            "          31       1.00      1.00      1.00     21893\n",
            "          34       1.00      1.00      1.00     10982\n",
            "          35       1.00      1.00      1.00     10970\n",
            "\n",
            "    accuracy                           1.00    307592\n",
            "   macro avg       1.00      1.00      1.00    307592\n",
            "weighted avg       1.00      1.00      1.00    307592\n",
            "\n"
          ]
        }
      ]
    },
    {
      "cell_type": "code",
      "source": [
        "y_pred_test = model4.predict(X_test)\n",
        "y_pred_train = model4.predict(X_train)\n",
        "\n",
        "test4 = pd.DataFrame({\n",
        "    'Actual':y_test,\n",
        "    'Y test predicted':y_pred_test\n",
        "})\n",
        "\n",
        "train = pd.DataFrame({\n",
        "    'Actual':y_train,\n",
        "    'Y train predicted':y_pred_train\n",
        "})"
      ],
      "metadata": {
        "id": "5mHt42LQzoTD"
      },
      "execution_count": 56,
      "outputs": []
    },
    {
      "cell_type": "code",
      "source": [
        "test4.sample(10)"
      ],
      "metadata": {
        "id": "xM-LpzWrzoQz",
        "colab": {
          "base_uri": "https://localhost:8080/",
          "height": 363
        },
        "outputId": "eb3f1676-e424-41e5-c472-819d22b1721e"
      },
      "execution_count": 57,
      "outputs": [
        {
          "output_type": "execute_result",
          "data": {
            "text/plain": [
              "        Actual  Y test predicted\n",
              "142737      35                35\n",
              "381318      20                20\n",
              "807475      15                15\n",
              "894646      30                30\n",
              "353290      23                23\n",
              "867943      34                34\n",
              "611673      17                17\n",
              "761005      14                14\n",
              "690903      20                20\n",
              "633497      24                24"
            ],
            "text/html": [
              "\n",
              "  <div id=\"df-b2dcd833-787b-4666-9ace-417433635a7b\">\n",
              "    <div class=\"colab-df-container\">\n",
              "      <div>\n",
              "<style scoped>\n",
              "    .dataframe tbody tr th:only-of-type {\n",
              "        vertical-align: middle;\n",
              "    }\n",
              "\n",
              "    .dataframe tbody tr th {\n",
              "        vertical-align: top;\n",
              "    }\n",
              "\n",
              "    .dataframe thead th {\n",
              "        text-align: right;\n",
              "    }\n",
              "</style>\n",
              "<table border=\"1\" class=\"dataframe\">\n",
              "  <thead>\n",
              "    <tr style=\"text-align: right;\">\n",
              "      <th></th>\n",
              "      <th>Actual</th>\n",
              "      <th>Y test predicted</th>\n",
              "    </tr>\n",
              "  </thead>\n",
              "  <tbody>\n",
              "    <tr>\n",
              "      <th>142737</th>\n",
              "      <td>35</td>\n",
              "      <td>35</td>\n",
              "    </tr>\n",
              "    <tr>\n",
              "      <th>381318</th>\n",
              "      <td>20</td>\n",
              "      <td>20</td>\n",
              "    </tr>\n",
              "    <tr>\n",
              "      <th>807475</th>\n",
              "      <td>15</td>\n",
              "      <td>15</td>\n",
              "    </tr>\n",
              "    <tr>\n",
              "      <th>894646</th>\n",
              "      <td>30</td>\n",
              "      <td>30</td>\n",
              "    </tr>\n",
              "    <tr>\n",
              "      <th>353290</th>\n",
              "      <td>23</td>\n",
              "      <td>23</td>\n",
              "    </tr>\n",
              "    <tr>\n",
              "      <th>867943</th>\n",
              "      <td>34</td>\n",
              "      <td>34</td>\n",
              "    </tr>\n",
              "    <tr>\n",
              "      <th>611673</th>\n",
              "      <td>17</td>\n",
              "      <td>17</td>\n",
              "    </tr>\n",
              "    <tr>\n",
              "      <th>761005</th>\n",
              "      <td>14</td>\n",
              "      <td>14</td>\n",
              "    </tr>\n",
              "    <tr>\n",
              "      <th>690903</th>\n",
              "      <td>20</td>\n",
              "      <td>20</td>\n",
              "    </tr>\n",
              "    <tr>\n",
              "      <th>633497</th>\n",
              "      <td>24</td>\n",
              "      <td>24</td>\n",
              "    </tr>\n",
              "  </tbody>\n",
              "</table>\n",
              "</div>\n",
              "      <button class=\"colab-df-convert\" onclick=\"convertToInteractive('df-b2dcd833-787b-4666-9ace-417433635a7b')\"\n",
              "              title=\"Convert this dataframe to an interactive table.\"\n",
              "              style=\"display:none;\">\n",
              "        \n",
              "  <svg xmlns=\"http://www.w3.org/2000/svg\" height=\"24px\"viewBox=\"0 0 24 24\"\n",
              "       width=\"24px\">\n",
              "    <path d=\"M0 0h24v24H0V0z\" fill=\"none\"/>\n",
              "    <path d=\"M18.56 5.44l.94 2.06.94-2.06 2.06-.94-2.06-.94-.94-2.06-.94 2.06-2.06.94zm-11 1L8.5 8.5l.94-2.06 2.06-.94-2.06-.94L8.5 2.5l-.94 2.06-2.06.94zm10 10l.94 2.06.94-2.06 2.06-.94-2.06-.94-.94-2.06-.94 2.06-2.06.94z\"/><path d=\"M17.41 7.96l-1.37-1.37c-.4-.4-.92-.59-1.43-.59-.52 0-1.04.2-1.43.59L10.3 9.45l-7.72 7.72c-.78.78-.78 2.05 0 2.83L4 21.41c.39.39.9.59 1.41.59.51 0 1.02-.2 1.41-.59l7.78-7.78 2.81-2.81c.8-.78.8-2.07 0-2.86zM5.41 20L4 18.59l7.72-7.72 1.47 1.35L5.41 20z\"/>\n",
              "  </svg>\n",
              "      </button>\n",
              "      \n",
              "  <style>\n",
              "    .colab-df-container {\n",
              "      display:flex;\n",
              "      flex-wrap:wrap;\n",
              "      gap: 12px;\n",
              "    }\n",
              "\n",
              "    .colab-df-convert {\n",
              "      background-color: #E8F0FE;\n",
              "      border: none;\n",
              "      border-radius: 50%;\n",
              "      cursor: pointer;\n",
              "      display: none;\n",
              "      fill: #1967D2;\n",
              "      height: 32px;\n",
              "      padding: 0 0 0 0;\n",
              "      width: 32px;\n",
              "    }\n",
              "\n",
              "    .colab-df-convert:hover {\n",
              "      background-color: #E2EBFA;\n",
              "      box-shadow: 0px 1px 2px rgba(60, 64, 67, 0.3), 0px 1px 3px 1px rgba(60, 64, 67, 0.15);\n",
              "      fill: #174EA6;\n",
              "    }\n",
              "\n",
              "    [theme=dark] .colab-df-convert {\n",
              "      background-color: #3B4455;\n",
              "      fill: #D2E3FC;\n",
              "    }\n",
              "\n",
              "    [theme=dark] .colab-df-convert:hover {\n",
              "      background-color: #434B5C;\n",
              "      box-shadow: 0px 1px 3px 1px rgba(0, 0, 0, 0.15);\n",
              "      filter: drop-shadow(0px 1px 2px rgba(0, 0, 0, 0.3));\n",
              "      fill: #FFFFFF;\n",
              "    }\n",
              "  </style>\n",
              "\n",
              "      <script>\n",
              "        const buttonEl =\n",
              "          document.querySelector('#df-b2dcd833-787b-4666-9ace-417433635a7b button.colab-df-convert');\n",
              "        buttonEl.style.display =\n",
              "          google.colab.kernel.accessAllowed ? 'block' : 'none';\n",
              "\n",
              "        async function convertToInteractive(key) {\n",
              "          const element = document.querySelector('#df-b2dcd833-787b-4666-9ace-417433635a7b');\n",
              "          const dataTable =\n",
              "            await google.colab.kernel.invokeFunction('convertToInteractive',\n",
              "                                                     [key], {});\n",
              "          if (!dataTable) return;\n",
              "\n",
              "          const docLinkHtml = 'Like what you see? Visit the ' +\n",
              "            '<a target=\"_blank\" href=https://colab.research.google.com/notebooks/data_table.ipynb>data table notebook</a>'\n",
              "            + ' to learn more about interactive tables.';\n",
              "          element.innerHTML = '';\n",
              "          dataTable['output_type'] = 'display_data';\n",
              "          await google.colab.output.renderOutput(dataTable, element);\n",
              "          const docLink = document.createElement('div');\n",
              "          docLink.innerHTML = docLinkHtml;\n",
              "          element.appendChild(docLink);\n",
              "        }\n",
              "      </script>\n",
              "    </div>\n",
              "  </div>\n",
              "  "
            ]
          },
          "metadata": {},
          "execution_count": 57
        }
      ]
    },
    {
      "cell_type": "code",
      "source": [],
      "metadata": {
        "id": "40TvqYOYsLdr"
      },
      "execution_count": null,
      "outputs": []
    },
    {
      "cell_type": "markdown",
      "source": [
        "#ANN_Architecture"
      ],
      "metadata": {
        "id": "T-NKAThtB-mF"
      }
    },
    {
      "cell_type": "code",
      "source": [],
      "metadata": {
        "id": "CEUuviCWCEj_"
      },
      "execution_count": 68,
      "outputs": []
    },
    {
      "cell_type": "code",
      "source": [
        "from keras.models import Sequential\n",
        "from keras.layers import Dense\n",
        " \n",
        "# create ANN model\n",
        "network = Sequential()\n",
        " \n",
        "# Defining the Input layer and FIRST hidden layer, both are same!\n",
        "network.add(Dense(units=50, input_dim=10, kernel_initializer='normal', activation='relu'))\n",
        " \n",
        "# Defining the Second layer of the model\n",
        "# after the first layer we don't have to specify input_dim as keras configure it automatically\n",
        "network.add(Dense(units=50, kernel_initializer='normal', activation='tanh'))\n",
        " \n",
        "# The output neuron is a single fully connected node \n",
        "# Since we will be predicting a single number\n",
        "network.add(Dense(1, kernel_initializer='normal'))\n",
        " \n",
        "# Compiling the model\n",
        "network.compile(loss='mean_squared_error', optimizer='adam')\n",
        " \n",
        "# Fitting the ANN to the Training set\n",
        "network.fit(X_train, y_train ,batch_size = 120, epochs = 100, verbose=1)\n"
      ],
      "metadata": {
        "colab": {
          "base_uri": "https://localhost:8080/"
        },
        "id": "fH3-PCiysbjq",
        "outputId": "1a8a41c2-524d-4603-eaa2-a90089d689b2"
      },
      "execution_count": 70,
      "outputs": [
        {
          "output_type": "stream",
          "name": "stdout",
          "text": [
            "Epoch 1/100\n",
            "5981/5981 [==============================] - 14s 2ms/step - loss: 49.5292\n",
            "Epoch 2/100\n",
            "5981/5981 [==============================] - 13s 2ms/step - loss: 40.3217\n",
            "Epoch 3/100\n",
            "5981/5981 [==============================] - 13s 2ms/step - loss: 40.3229\n",
            "Epoch 4/100\n",
            "5981/5981 [==============================] - 13s 2ms/step - loss: 40.3185\n",
            "Epoch 5/100\n",
            "5981/5981 [==============================] - 15s 3ms/step - loss: 40.3216\n",
            "Epoch 6/100\n",
            "5981/5981 [==============================] - 14s 2ms/step - loss: 40.3212\n",
            "Epoch 7/100\n",
            "5981/5981 [==============================] - 14s 2ms/step - loss: 40.3222\n",
            "Epoch 8/100\n",
            "5981/5981 [==============================] - 13s 2ms/step - loss: 40.3221\n",
            "Epoch 9/100\n",
            "5981/5981 [==============================] - 13s 2ms/step - loss: 24.3392\n",
            "Epoch 10/100\n",
            "5981/5981 [==============================] - 13s 2ms/step - loss: 19.2881\n",
            "Epoch 11/100\n",
            "5981/5981 [==============================] - 13s 2ms/step - loss: 17.3639\n",
            "Epoch 12/100\n",
            "5981/5981 [==============================] - 13s 2ms/step - loss: 15.7367\n",
            "Epoch 13/100\n",
            "5981/5981 [==============================] - 13s 2ms/step - loss: 14.7882\n",
            "Epoch 14/100\n",
            "5981/5981 [==============================] - 14s 2ms/step - loss: 14.0784\n",
            "Epoch 15/100\n",
            "5981/5981 [==============================] - 14s 2ms/step - loss: 13.4454\n",
            "Epoch 16/100\n",
            "5981/5981 [==============================] - 14s 2ms/step - loss: 12.8816\n",
            "Epoch 17/100\n",
            "5981/5981 [==============================] - 13s 2ms/step - loss: 12.3454\n",
            "Epoch 18/100\n",
            "5981/5981 [==============================] - 13s 2ms/step - loss: 11.8145\n",
            "Epoch 19/100\n",
            "5981/5981 [==============================] - 13s 2ms/step - loss: 11.3198\n",
            "Epoch 20/100\n",
            "5981/5981 [==============================] - 13s 2ms/step - loss: 10.8510\n",
            "Epoch 21/100\n",
            "5981/5981 [==============================] - 13s 2ms/step - loss: 10.4047\n",
            "Epoch 22/100\n",
            "5981/5981 [==============================] - 13s 2ms/step - loss: 9.9702\n",
            "Epoch 23/100\n",
            "5981/5981 [==============================] - 13s 2ms/step - loss: 9.5426\n",
            "Epoch 24/100\n",
            "5981/5981 [==============================] - 13s 2ms/step - loss: 9.1623\n",
            "Epoch 25/100\n",
            "5981/5981 [==============================] - 14s 2ms/step - loss: 8.8140\n",
            "Epoch 26/100\n",
            "5981/5981 [==============================] - 13s 2ms/step - loss: 8.5168\n",
            "Epoch 27/100\n",
            "5981/5981 [==============================] - 13s 2ms/step - loss: 8.2663\n",
            "Epoch 28/100\n",
            "5981/5981 [==============================] - 13s 2ms/step - loss: 8.0634\n",
            "Epoch 29/100\n",
            "5981/5981 [==============================] - 13s 2ms/step - loss: 7.8857\n",
            "Epoch 30/100\n",
            "5981/5981 [==============================] - 13s 2ms/step - loss: 7.7236\n",
            "Epoch 31/100\n",
            "5981/5981 [==============================] - 13s 2ms/step - loss: 7.5803\n",
            "Epoch 32/100\n",
            "5981/5981 [==============================] - 13s 2ms/step - loss: 7.4489\n",
            "Epoch 33/100\n",
            "5981/5981 [==============================] - 13s 2ms/step - loss: 7.3192\n",
            "Epoch 34/100\n",
            "5981/5981 [==============================] - 14s 2ms/step - loss: 7.1977\n",
            "Epoch 35/100\n",
            "5981/5981 [==============================] - 13s 2ms/step - loss: 7.0916\n",
            "Epoch 36/100\n",
            "5981/5981 [==============================] - 13s 2ms/step - loss: 6.9856\n",
            "Epoch 37/100\n",
            "5981/5981 [==============================] - 14s 2ms/step - loss: 6.8978\n",
            "Epoch 38/100\n",
            "5981/5981 [==============================] - 13s 2ms/step - loss: 6.8160\n",
            "Epoch 39/100\n",
            "5981/5981 [==============================] - 13s 2ms/step - loss: 6.7399\n",
            "Epoch 40/100\n",
            "5981/5981 [==============================] - 13s 2ms/step - loss: 6.6630\n",
            "Epoch 41/100\n",
            "5981/5981 [==============================] - 13s 2ms/step - loss: 6.5891\n",
            "Epoch 42/100\n",
            "5981/5981 [==============================] - 13s 2ms/step - loss: 6.5278\n",
            "Epoch 43/100\n",
            "5981/5981 [==============================] - 14s 2ms/step - loss: 6.4668\n",
            "Epoch 44/100\n",
            "5981/5981 [==============================] - 13s 2ms/step - loss: 6.4114\n",
            "Epoch 45/100\n",
            "5981/5981 [==============================] - 13s 2ms/step - loss: 6.3618\n",
            "Epoch 46/100\n",
            "5981/5981 [==============================] - 13s 2ms/step - loss: 6.3178\n",
            "Epoch 47/100\n",
            "5981/5981 [==============================] - 13s 2ms/step - loss: 6.2748\n",
            "Epoch 48/100\n",
            "5981/5981 [==============================] - 13s 2ms/step - loss: 6.2347\n",
            "Epoch 49/100\n",
            "5981/5981 [==============================] - 13s 2ms/step - loss: 6.1922\n",
            "Epoch 50/100\n",
            "5981/5981 [==============================] - 13s 2ms/step - loss: 6.1530\n",
            "Epoch 51/100\n",
            "5981/5981 [==============================] - 13s 2ms/step - loss: 6.1153\n",
            "Epoch 52/100\n",
            "5981/5981 [==============================] - 14s 2ms/step - loss: 6.0814\n",
            "Epoch 53/100\n",
            "5981/5981 [==============================] - 16s 3ms/step - loss: 6.0468\n",
            "Epoch 54/100\n",
            "5981/5981 [==============================] - 14s 2ms/step - loss: 6.0216\n",
            "Epoch 55/100\n",
            "5981/5981 [==============================] - 13s 2ms/step - loss: 5.9944\n",
            "Epoch 56/100\n",
            "5981/5981 [==============================] - 13s 2ms/step - loss: 5.9656\n",
            "Epoch 57/100\n",
            "5981/5981 [==============================] - 13s 2ms/step - loss: 5.9384\n",
            "Epoch 58/100\n",
            "5981/5981 [==============================] - 13s 2ms/step - loss: 5.9136\n",
            "Epoch 59/100\n",
            "5981/5981 [==============================] - 13s 2ms/step - loss: 5.8904\n",
            "Epoch 60/100\n",
            "5981/5981 [==============================] - 13s 2ms/step - loss: 5.8680\n",
            "Epoch 61/100\n",
            "5981/5981 [==============================] - 14s 2ms/step - loss: 5.8511\n",
            "Epoch 62/100\n",
            "5981/5981 [==============================] - 13s 2ms/step - loss: 5.8235\n",
            "Epoch 63/100\n",
            "5981/5981 [==============================] - 13s 2ms/step - loss: 5.8046\n",
            "Epoch 64/100\n",
            "5981/5981 [==============================] - 13s 2ms/step - loss: 5.7789\n",
            "Epoch 65/100\n",
            "5981/5981 [==============================] - 13s 2ms/step - loss: 5.7676\n",
            "Epoch 66/100\n",
            "5981/5981 [==============================] - 13s 2ms/step - loss: 5.7401\n",
            "Epoch 67/100\n",
            "5981/5981 [==============================] - 13s 2ms/step - loss: 5.7242\n",
            "Epoch 68/100\n",
            "5981/5981 [==============================] - 13s 2ms/step - loss: 5.7031\n",
            "Epoch 69/100\n",
            "5981/5981 [==============================] - 13s 2ms/step - loss: 5.6828\n",
            "Epoch 70/100\n",
            "5981/5981 [==============================] - 14s 2ms/step - loss: 5.6663\n",
            "Epoch 71/100\n",
            "5981/5981 [==============================] - 13s 2ms/step - loss: 5.6495\n",
            "Epoch 72/100\n",
            "5981/5981 [==============================] - 13s 2ms/step - loss: 5.6342\n",
            "Epoch 73/100\n",
            "5981/5981 [==============================] - 13s 2ms/step - loss: 5.6221\n",
            "Epoch 74/100\n",
            "5981/5981 [==============================] - 13s 2ms/step - loss: 5.6048\n",
            "Epoch 75/100\n",
            "5981/5981 [==============================] - 13s 2ms/step - loss: 5.5897\n",
            "Epoch 76/100\n",
            "5981/5981 [==============================] - 13s 2ms/step - loss: 5.5710\n",
            "Epoch 77/100\n",
            "5981/5981 [==============================] - 13s 2ms/step - loss: 5.5591\n",
            "Epoch 78/100\n",
            "5981/5981 [==============================] - 13s 2ms/step - loss: 5.5478\n",
            "Epoch 79/100\n",
            "5981/5981 [==============================] - 14s 2ms/step - loss: 5.5343\n",
            "Epoch 80/100\n",
            "5981/5981 [==============================] - 13s 2ms/step - loss: 5.5196\n",
            "Epoch 81/100\n",
            "5981/5981 [==============================] - 13s 2ms/step - loss: 5.5069\n",
            "Epoch 82/100\n",
            "5981/5981 [==============================] - 13s 2ms/step - loss: 5.4966\n",
            "Epoch 83/100\n",
            "5981/5981 [==============================] - 13s 2ms/step - loss: 5.4868\n",
            "Epoch 84/100\n",
            "5981/5981 [==============================] - 13s 2ms/step - loss: 5.4755\n",
            "Epoch 85/100\n",
            "5981/5981 [==============================] - 13s 2ms/step - loss: 5.4646\n",
            "Epoch 86/100\n",
            "5981/5981 [==============================] - 13s 2ms/step - loss: 5.4582\n",
            "Epoch 87/100\n",
            "5981/5981 [==============================] - 13s 2ms/step - loss: 5.4426\n",
            "Epoch 88/100\n",
            "5981/5981 [==============================] - 13s 2ms/step - loss: 5.4354\n",
            "Epoch 89/100\n",
            "5981/5981 [==============================] - 14s 2ms/step - loss: 5.4215\n",
            "Epoch 90/100\n",
            "5981/5981 [==============================] - 13s 2ms/step - loss: 5.4146\n",
            "Epoch 91/100\n",
            "5981/5981 [==============================] - 13s 2ms/step - loss: 5.4039\n",
            "Epoch 92/100\n",
            "5981/5981 [==============================] - 13s 2ms/step - loss: 5.3955\n",
            "Epoch 93/100\n",
            "5981/5981 [==============================] - 13s 2ms/step - loss: 5.3864\n",
            "Epoch 94/100\n",
            "5981/5981 [==============================] - 13s 2ms/step - loss: 5.3756\n",
            "Epoch 95/100\n",
            "5981/5981 [==============================] - 13s 2ms/step - loss: 5.3674\n",
            "Epoch 96/100\n",
            "5981/5981 [==============================] - 13s 2ms/step - loss: 5.3562\n",
            "Epoch 97/100\n",
            "5981/5981 [==============================] - 13s 2ms/step - loss: 5.3460\n",
            "Epoch 98/100\n",
            "5981/5981 [==============================] - 14s 2ms/step - loss: 5.3389\n",
            "Epoch 99/100\n",
            "5981/5981 [==============================] - 13s 2ms/step - loss: 5.3273\n",
            "Epoch 100/100\n",
            "5981/5981 [==============================] - 13s 2ms/step - loss: 5.3186\n"
          ]
        },
        {
          "output_type": "execute_result",
          "data": {
            "text/plain": [
              "<keras.callbacks.History at 0x7f3a7a48f750>"
            ]
          },
          "metadata": {},
          "execution_count": 70
        }
      ]
    },
    {
      "cell_type": "code",
      "source": [
        "network.save(\"ann_model.h5\")"
      ],
      "metadata": {
        "id": "pTk3txpVLMRK"
      },
      "execution_count": 72,
      "outputs": []
    },
    {
      "cell_type": "code",
      "source": [
        "y_pred = network.predict(X_test, verbose=0)\n",
        "y_pred.shape"
      ],
      "metadata": {
        "colab": {
          "base_uri": "https://localhost:8080/"
        },
        "id": "cNG4K-w3LYLa",
        "outputId": "92b29c36-1062-48a8-a157-f8c21a7da3aa"
      },
      "execution_count": 81,
      "outputs": [
        {
          "output_type": "execute_result",
          "data": {
            "text/plain": [
              "(307592, 1)"
            ]
          },
          "metadata": {},
          "execution_count": 81
        }
      ]
    },
    {
      "cell_type": "code",
      "source": [
        "# From categorical outputs to discrete values\n",
        "\n",
        "y_pred_ = [np.argmax(y) for y in y_pred]\n",
        "y_test_ = [np.argmax(y) for y in y_test]\n",
        "\n",
        "from sklearn.metrics import classification_report\n",
        "print(classification_report(y_test_, y_pred_))"
      ],
      "metadata": {
        "colab": {
          "base_uri": "https://localhost:8080/"
        },
        "id": "gaUQfWkDODzj",
        "outputId": "63824202-5e1c-47ef-c7dc-c996953ccc10"
      },
      "execution_count": 82,
      "outputs": [
        {
          "output_type": "stream",
          "name": "stdout",
          "text": [
            "              precision    recall  f1-score   support\n",
            "\n",
            "           0       1.00      1.00      1.00    307592\n",
            "\n",
            "    accuracy                           1.00    307592\n",
            "   macro avg       1.00      1.00      1.00    307592\n",
            "weighted avg       1.00      1.00      1.00    307592\n",
            "\n"
          ]
        }
      ]
    },
    {
      "cell_type": "code",
      "source": [],
      "metadata": {
        "id": "rTY8XZ67dPxy"
      },
      "execution_count": 82,
      "outputs": []
    },
    {
      "cell_type": "code",
      "execution_count": 83,
      "metadata": {
        "id": "pYyGA1PNM3MX",
        "colab": {
          "base_uri": "https://localhost:8080/"
        },
        "outputId": "1bd4f771-1a40-4b3b-fed3-836d8f1f3776"
      },
      "outputs": [
        {
          "output_type": "execute_result",
          "data": {
            "text/plain": [
              "{'LogisticRegression(max_iter=500)': 42.14966579104788,\n",
              " 'LogisticRegression()': 42.29401284818851,\n",
              " 'LogisticRegression(max_iter=1000)': 42.14966579104788,\n",
              " 'DecisionTreeClassifier(max_depth=18)': 85.81660121199512,\n",
              " 'RandomForestClassifier(max_depth=18)': 98.79970870503784,\n",
              " 'LinearRegression()': 85.81660121199512,\n",
              " 'KNeighborsClassifier(n_neighbors=10)': 99.92587583552238}"
            ]
          },
          "metadata": {},
          "execution_count": 83
        }
      ],
      "source": [
        "accuracy"
      ]
    },
    {
      "cell_type": "code",
      "execution_count": 84,
      "metadata": {
        "id": "oFbSpUyjM8Bo",
        "colab": {
          "base_uri": "https://localhost:8080/",
          "height": 436
        },
        "outputId": "45992c4d-0d05-47f1-b4d9-307244f311c6"
      },
      "outputs": [
        {
          "output_type": "display_data",
          "data": {
            "text/plain": [
              "<Figure size 432x288 with 1 Axes>"
            ],
            "image/png": "[encoded data removed]"
          },
          "metadata": {
            "needs_background": "light"
          }
        }
      ],
      "source": [
        "algos = list(accuracy.keys())\n",
        "accu_val = list(accuracy.values())\n",
        "\n",
        "plt.bar(algos, accu_val, width=0.4)\n",
        "plt.title('Accuracy Differences')\n",
        "plt.xlabel('Algorithms')\n",
        "plt.ylabel('Accuracy')\n",
        "plt.xticks(rotation=45)\n",
        "plt.show()\n"
      ]
    },
    {
      "cell_type": "code",
      "execution_count": null,
      "metadata": {
        "id": "7pRfKXWFPeC_"
      },
      "outputs": [],
      "source": []
    }
  ],
  "metadata": {
    "accelerator": "GPU",
    "colab": {
      "provenance": [],
      "collapsed_sections": []
    },
    "gpuClass": "standard",
    "kernelspec": {
      "display_name": "Python 3",
      "name": "python3"
    },
    "language_info": {
      "name": "python"
    }
  },
  "nbformat": 4,
  "nbformat_minor": 0
}